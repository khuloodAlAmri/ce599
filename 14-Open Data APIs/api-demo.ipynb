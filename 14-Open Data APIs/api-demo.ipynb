{
 "cells": [
  {
   "cell_type": "markdown",
   "metadata": {},
   "source": [
    "# Working with Data APIs\n",
    "\n",
    "**Adapted from: Sam Maurer // maurer@berkeley.edu // Oct. 3, 2016**\n",
    "\n",
    "This notebook provides a demonstration of data-access APIs that operate over the web. See README.md for setup instructions.\n",
    "\n",
    "In Part 1, we'll load and parse results from an API feed of earthquake data.  \n",
    "In Part 2, we'll add query parameters to the workflow, using the Google Maps Geolocation API as an example.  \n",
    "In Part 3, we'll use an authenticated API to query public Twitter posts. "
   ]
  },
  {
   "cell_type": "markdown",
   "metadata": {},
   "source": [
    "# Part 1: Reading from an automated data feed\n",
    "\n",
    "### USGS real-time earthquake feeds\n",
    "\n",
    "This is an API for near-real-time data about earthquakes. Data is provided in JSON format over the web. No authentication is needed, and there's no way to customize the output. Instead, the API has a separate endpoint for each permutation of the data that users might want.\n",
    "\n",
    "**API documentation:**  \n",
    "http://earthquake.usgs.gov/earthquakes/feed/v1.0/geojson.php\n",
    "\n",
    "**Sample API endpoint, for magnitude 4.5+ earthquakes in past day:**  \n",
    "http://earthquake.usgs.gov/earthquakes/feed/v1.0/summary/4.5_day.geojson  \n"
   ]
  },
  {
   "cell_type": "code",
   "execution_count": 1,
   "metadata": {},
   "outputs": [],
   "source": [
    "%matplotlib inline\n",
    "\n",
    "import pandas as pd\n",
    "\n",
    "import json    # library for working with JSON-formatted text strings\n",
    "import requests  # library for accessing content from web URLs\n",
    "\n",
    "import pprint  # library for making Python data structures readable\n",
    "pp = pprint.PrettyPrinter()"
   ]
  },
  {
   "cell_type": "code",
   "execution_count": 2,
   "metadata": {},
   "outputs": [
    {
     "name": "stdout",
     "output_type": "stream",
     "text": [
      "<class 'str'>\n"
     ]
    }
   ],
   "source": [
    "# download data on magnitude 2.5+ quakes from the past week\n",
    "\n",
    "endpoint_url = \"http://earthquake.usgs.gov/earthquakes/feed/v1.0/summary/2.5_week.geojson\"\n",
    "response = requests.get(endpoint_url)\n",
    "results = response.text\n",
    "\n",
    "# what is the data type of the results?\n",
    "print(type(results))"
   ]
  },
  {
   "cell_type": "code",
   "execution_count": 3,
   "metadata": {},
   "outputs": [
    {
     "name": "stdout",
     "output_type": "stream",
     "text": [
      "{\"type\":\"FeatureCollection\",\"metadata\":{\"generated\":1551808695000,\"url\":\"https://earthquake.usgs.gov/earthquakes/feed/v1.0/summary/2.5_week.geojson\",\"title\":\"USGS Magnitude 2.5+ Earthquakes, Past Week\",\"status\":200,\"api\":\"1.7.0\",\"count\":264},\"features\":[{\"type\":\"Feature\",\"properties\":{\"mag\":4.9,\"place\":\"73km WSW of Puerto Madero, Mexico\",\"time\":1551801502570,\"updated\":1551802818040,\"tz\":-360,\"url\":\"https://earthquake.usgs.gov/earthquakes/eventpage/us1000jaur\",\"detail\":\"https://earthquake.usgs.go\n"
     ]
    }
   ],
   "source": [
    "# print the first 500 characters to see a sample of the data\n",
    "\n",
    "print(results[:500])"
   ]
  },
  {
   "cell_type": "code",
   "execution_count": 4,
   "metadata": {},
   "outputs": [
    {
     "name": "stdout",
     "output_type": "stream",
     "text": [
      "<class 'dict'>\n"
     ]
    }
   ],
   "source": [
    "# it looks like the results are a string with JSON-formatted data inside\n",
    "\n",
    "# parse the string into a Python dictionary\n",
    "data = json.loads(results)\n",
    "\n",
    "print(type(data))"
   ]
  },
  {
   "cell_type": "code",
   "execution_count": 5,
   "metadata": {
    "scrolled": true
   },
   "outputs": [
    {
     "name": "stdout",
     "output_type": "stream",
     "text": [
      "{'type': 'Feature', 'properties': {'mag': 4.9, 'place': '73km WSW of Puerto Madero, Mexico', 'time': 1551801502570, 'updated': 1551802818040, 'tz': -360, 'url': 'https://earthquake.usgs.gov/earthquakes/eventpage/us1000jaur', 'detail': 'https://earthquake.usgs.gov/earthquakes/feed/v1.0/detail/us1000jaur.geojson', 'felt': None, 'cdi': None, 'mmi': None, 'alert': None, 'status': 'reviewed', 'tsunami': 0, 'sig': 369, 'net': 'us', 'code': '1000jaur', 'ids': ',us1000jaur,', 'sources': ',us,', 'types': ',geoserve,origin,phase-data,', 'nst': None, 'dmin': 1.273, 'rms': 0.73, 'gap': 161, 'magType': 'mb', 'type': 'earthquake', 'title': 'M 4.9 - 73km WSW of Puerto Madero, Mexico'}, 'geometry': {'type': 'Point', 'coordinates': [-92.9988, 14.3631, 24.14]}, 'id': 'us1000jaur'}\n"
     ]
    }
   ],
   "source": [
    "# print the most recent quake\n",
    "\n",
    "quakes = data['features']\n",
    "print(quakes[0])"
   ]
  },
  {
   "cell_type": "code",
   "execution_count": 6,
   "metadata": {},
   "outputs": [
    {
     "name": "stdout",
     "output_type": "stream",
     "text": [
      "{'coordinates': [-92.9988, 14.3631, 24.14], 'type': 'Point'}\n",
      "{'alert': None,\n",
      " 'cdi': None,\n",
      " 'code': '1000jaur',\n",
      " 'detail': 'https://earthquake.usgs.gov/earthquakes/feed/v1.0/detail/us1000jaur.geojson',\n",
      " 'dmin': 1.273,\n",
      " 'felt': None,\n",
      " 'gap': 161,\n",
      " 'ids': ',us1000jaur,',\n",
      " 'mag': 4.9,\n",
      " 'magType': 'mb',\n",
      " 'mmi': None,\n",
      " 'net': 'us',\n",
      " 'nst': None,\n",
      " 'place': '73km WSW of Puerto Madero, Mexico',\n",
      " 'rms': 0.73,\n",
      " 'sig': 369,\n",
      " 'sources': ',us,',\n",
      " 'status': 'reviewed',\n",
      " 'time': 1551801502570,\n",
      " 'title': 'M 4.9 - 73km WSW of Puerto Madero, Mexico',\n",
      " 'tsunami': 0,\n",
      " 'type': 'earthquake',\n",
      " 'types': ',geoserve,origin,phase-data,',\n",
      " 'tz': -360,\n",
      " 'updated': 1551802818040,\n",
      " 'url': 'https://earthquake.usgs.gov/earthquakes/eventpage/us1000jaur'}\n"
     ]
    }
   ],
   "source": [
    "# print it more clearly\n",
    "\n",
    "pp.pprint(quakes[0]['geometry'])\n",
    "pp.pprint(quakes[0]['properties'])"
   ]
  },
  {
   "cell_type": "code",
   "execution_count": 7,
   "metadata": {},
   "outputs": [
    {
     "name": "stdout",
     "output_type": "stream",
     "text": [
      "M 4.9 - 73km WSW of Puerto Madero, Mexico\n",
      "M 4.4 - 42km W of `Alaqahdari-ye Kiran wa Munjan, Afghanistan\n",
      "M 3.6 - 71km SSW of Kobuk, Alaska\n",
      "M 3.5 - 255km SE of Kodiak, Alaska\n",
      "M 4.8 - 64km SW of Puerto Madero, Mexico\n",
      "M 5.1 - 60km SW of Buldir Island, Alaska\n",
      "M 4.8 - 62km SW of Puerto Madero, Mexico\n",
      "M 2.9 - 8km WSW of Ely, Nevada\n",
      "M 2.6 - 58km E of Old Iliamna, Alaska\n",
      "M 4.0 - Izu Islands, Japan region\n",
      "M 2.5 - 1km S of Bluffdale, Utah\n",
      "M 3.8 - 121km SSE of Yunaska Island, Alaska\n",
      "M 2.5 - 52km N of Culebra, Puerto Rico\n",
      "M 4.6 - 137km WSW of Banda Aceh, Indonesia\n",
      "M 2.7 - 54km SE of Punta Cana, Dominican Republic\n",
      "M 2.9 - 127km NNE of Vieques, Puerto Rico\n",
      "M 2.9 - 65km SSW of Kobuk, Alaska\n",
      "M 2.6 - 89km S of Kodiak Station, Alaska\n",
      "M 2.8 - 91km SSW of Kaktovik, Alaska\n",
      "M 4.5 - 150km NW of Olonkinbyen, Svalbard and Jan Mayen\n",
      "M 2.6 - 1km NW of Manhattan, Montana\n",
      "M 2.8 - 71km WSW of Alberto Oviedo Mota, B.C., MX\n",
      "M 4.4 - 57km ENE of Malili, Indonesia\n",
      "M 4.5 - 57km NNE of Yanqi, China\n",
      "M 2.9 - 67km SSW of Kobuk, Alaska\n",
      "M 2.5 - 11km NNW of Anchorage, Alaska\n",
      "M 4.8 - 48km ENE of Malili, Indonesia\n",
      "M 4.5 - 57km N of Dove Creek, Colorado\n",
      "M 3.3 - 64km ENE of Old Faithful Geyser, Wyoming\n",
      "M 4.4 - 29km NE of Madang, Papua New Guinea\n",
      "M 4.2 - 65km SW of Santiago Pinotepa Nacional, Mexico\n",
      "M 4.4 - 28km ENE of Madang, Papua New Guinea\n",
      "M 4.6 - 24km WNW of Ust'-Barguzin, Russia\n",
      "M 3.8 - 9km NW of Red Deer, Canada\n",
      "M 4.8 - 46km E of Madang, Papua New Guinea\n",
      "M 4.5 - 40km WNW of Pisco, Peru\n",
      "M 5.9 - 43km E of Madang, Papua New Guinea\n",
      "M 2.7 - 41km SSE of Pecos, Texas\n",
      "M 2.6 - 13km NNW of Alderson, West Virginia\n",
      "M 4.4 - 71km SSW of Sand Point, Alaska\n",
      "M 4.8 - 69km NNW of Visokoi Island, South Georgia and the South Sandwich Islands\n",
      "M 4.0 - 28km N of Melipilla, Chile\n",
      "M 2.7 - 67km ENE of Road Town, British Virgin Islands\n",
      "M 2.5 - 26km E of Honaunau-Napoopoo, Hawaii\n",
      "M 3.4 - 110km N of Road Town, British Virgin Islands\n",
      "M 3.4 - 129km N of Vieques, Puerto Rico\n",
      "M 3.0 - 80km N of Charlotte Amalie, U.S. Virgin Islands\n",
      "M 4.6 - 142km ENE of Neiafu, Tonga\n",
      "M 2.9 - 58km NNW of Road Town, British Virgin Islands\n",
      "M 2.8 - 68km WSW of Tok, Alaska\n",
      "M 4.6 - 49km NE of Palue, Indonesia\n",
      "M 2.5 - 6km ENE of Salina, Kansas\n",
      "M 2.8 - 90km NE of Tanana, Alaska\n",
      "M 2.6 - 100km NE of Circle, Alaska\n",
      "M 3.4 - 64km NNW of Road Town, British Virgin Islands\n",
      "M 2.9 - 38km ESE of Punta Cana, Dominican Republic\n",
      "M 2.6 - 11km SE of Leilani Estates, Hawaii\n",
      "M 4.4 - 60km NNE of Palue, Indonesia\n",
      "M 4.6 - 3km S of Asuncion Ixtaltepec, Mexico\n",
      "M 4.2 - 124km SE of Pondaguitan, Philippines\n",
      "M 3.0 - 14km SW of Enterprise, Utah\n",
      "M 2.5 - 1km SSW of Bayamon, Puerto Rico\n",
      "M 2.8 - 86km W of Petrolia, CA\n",
      "M 4.9 - 34km WNW of Zirandaro, Mexico\n",
      "M 3.1 - 6km WSW of Lower Lake, CA\n",
      "M 4.2 - 275km SE of Kodiak, Alaska\n",
      "M 2.9 - 68km SSW of Kobuk, Alaska\n",
      "M 4.9 - 55km W of Kasiguncu, Indonesia\n",
      "M 5.4 - 127km NE of L'Esperance Rock, New Zealand\n",
      "M 2.8 - 292km SE of Kodiak, Alaska\n",
      "M 2.8 - 41km NNW of Currant, Nevada\n",
      "M 3.4 - 299km SE of Kodiak, Alaska\n",
      "M 2.5 - 29km N of San Antonio, Puerto Rico\n",
      "M 2.7 - 43km NNW of Currant, Nevada\n",
      "M 4.3 - 32km SSE of Pucallpa, Peru\n",
      "M 2.6 - 79km NE of Miches, Dominican Republic\n",
      "M 4.5 - 25km NNW of Gandava, Pakistan\n",
      "M 3.8 - 8km WSW of Marigot, Saint Martin\n",
      "M 2.5 - 7km NE of Georgetown, Ohio\n",
      "M 2.7 - 4km NE of Waikoloa, Hawaii\n",
      "M 2.8 - 32km SSW of Butte, Alaska\n",
      "M 4.5 - 24km E of Pamandzi, Mayotte\n",
      "M 2.9 - 12km SSE of Volcano, Hawaii\n",
      "M 4.3 - 54km SSW of Masachapa, Nicaragua\n",
      "M 4.2 - 52km NNW of Atka, Alaska\n",
      "M 4.4 - 172km SSE of Sinabang, Indonesia\n",
      "M 2.5 - 51km SSE of King Salmon, Alaska\n",
      "M 2.7 - 41km WNW of Rincon, Puerto Rico\n",
      "M 3.5 - 28km E of Karibib, Namibia\n",
      "M 3.2 - 84km NNW of Charlotte Amalie, U.S. Virgin Islands\n",
      "M 2.6 - 75km S of Kobuk, Alaska\n",
      "M 2.9 - 10km NNW of Cholame, CA\n",
      "M 5.5 - 94km W of San Antonio, Chile\n",
      "M 2.7 - 2km WNW of Manhattan, Montana\n",
      "M 5.6 - 21km NW of Davila, Philippines\n",
      "M 2.7 - 148km NE of Nome, Alaska\n",
      "M 4.9 - 225km NNW of Farallon de Pajaros, Northern Mariana Islands\n",
      "M 3.0 - 124km S of Boca de Yuma, Dominican Republic\n",
      "M 5.3 - Izu Islands, Japan region\n",
      "M 2.7 - 63km SSW of Kaktovik, Alaska\n",
      "M 2.6 - 20km NNW of Brenas, Puerto Rico\n",
      "M 4.1 - 119km SSW of George Town, Cayman Islands\n",
      "M 4.8 - 69km NNW of Alotau, Papua New Guinea\n",
      "M 4.3 - 100km SE of San Felipe, Mexico\n",
      "M 2.8 - 134km ESE of Akutan, Alaska\n",
      "M 2.8 - 14km SW of Cherokee, Oklahoma\n",
      "M 3.1 - 76km NNW of San Antonio, Puerto Rico\n",
      "M 2.8 - 43km WNW of Petrolia, CA\n",
      "M 4.3 - 50km NNE of Kerman, Iran\n",
      "M 2.9 - 51km N of Isabela, Puerto Rico\n",
      "M 3.1 - 169km S of False Pass, Alaska\n",
      "M 2.8 - 13km SE of Road Town, British Virgin Islands\n",
      "M 4.6 - 183km NE of Kuril'sk, Russia\n",
      "M 4.5 - 85km W of San Antonio, Chile\n",
      "M 2.9 - 114km NNW of Arctic Village, Alaska\n",
      "M 4.9 - Northern Mid-Atlantic Ridge\n",
      "M 3.8 - 21km W of Petrolia, CA\n",
      "M 2.5 - 50km N of San Juan, Puerto Rico\n",
      "M 3.4 - 78km N of Charlotte Amalie, U.S. Virgin Islands\n",
      "M 6.0 - 191km SE of Nemuro, Japan\n",
      "M 2.6 - 16km WSW of Enterprise, Utah\n",
      "M 5.2 - 80km SSE of Panguna, Papua New Guinea\n",
      "M 2.6 - 8km SSE of Ridgely, Tennessee\n",
      "M 2.9 - 116km N of San Juan, Puerto Rico\n",
      "M 3.9 - 19km WSW of Valparaiso, Chile\n",
      "M 2.5 - 72km SSW of Kaktovik, Alaska\n",
      "M 3.2 - 114km ENE of Chernabura Island, Alaska\n",
      "M 4.5 - Owen Fracture Zone region\n",
      "M 2.8 - 246km SE of Kodiak, Alaska\n",
      "M 3.1 - 123km NNW of Arctic Village, Alaska\n",
      "M 4.8 - Izu Islands, Japan region\n",
      "M 2.8 - 76km N of San Juan, Puerto Rico\n",
      "M 4.6 - 114km N of Lanos, Indonesia\n",
      "M 4.8 - South of the Fiji Islands\n",
      "M 5.2 - 45km W of Ovalle, Chile\n",
      "M 2.5 - 12km S of Tres Pinos, CA\n",
      "M 3.2 - 262km SE of Kodiak, Alaska\n",
      "M 3.7 - 274km SSE of Kodiak, Alaska\n",
      "M 4.4 - 37km ESE of Hitachi, Japan\n",
      "M 4.6 - 2km WNW of Comillas Norte, Philippines\n",
      "M 4.2 - 216km NW of Attu Station, Alaska\n",
      "M 2.8 - 18km NW of Anchorage, Alaska\n",
      "M 4.8 - 212km N of Sola, Vanuatu\n",
      "M 2.5 - 84km WSW of Cordova, Alaska\n",
      "M 2.6 - 85km W of Willow, Alaska\n",
      "M 2.7 - 70km E of Sutton-Alpine, Alaska\n",
      "M 4.2 - 32km NE of Calama, Chile\n",
      "M 4.4 - 232km WNW of Saumlaki, Indonesia\n",
      "M 4.9 - 50km E of Santiago, Philippines\n",
      "M 7.0 - 27km NNE of Azangaro, Peru\n",
      "M 2.6 - 29km SE of Boca de Yuma, Dominican Republic\n",
      "M 4.7 - 101km SSW of Porgera, Papua New Guinea\n",
      "M 2.6 - 130km NW of Talkeetna, Alaska\n",
      "M 2.8 - 264km ESE of Kodiak, Alaska\n",
      "M 3.1 - 16km NNW of Anchorage, Alaska\n",
      "M 4.0 - 21km WSW of Silvassa, India\n",
      "M 3.3 - 277km SE of Kodiak, Alaska\n",
      "M 2.6 - 103km NE of Punta Cana, Dominican Republic\n",
      "M 4.8 - 5km W of Soweto, South Africa\n",
      "M 3.0 - 221km ESE of Kodiak, Alaska\n",
      "M 2.5 - 14km E of Petrolia, CA\n",
      "M 4.2 - 271km ESE of Kodiak, Alaska\n",
      "M 3.3 - 282km ESE of Kodiak, Alaska\n",
      "M 2.5 - 62km SSW of Kaktovik, Alaska\n",
      "M 4.5 - 63km WSW of San Juan del Sur, Nicaragua\n",
      "M 2.7 - 0km N of Big Lake, Alaska\n",
      "M 2.7 - 77km SSW of Kobuk, Alaska\n",
      "M 4.5 - 7km N of Berlin, El Salvador\n",
      "M 2.9 - 61km SSW of Kaktovik, Alaska\n",
      "M 5.8 - 125km NNE of Macquarie Island, Australia\n",
      "M 5.2 - 41km SSW of Sarangani, Philippines\n",
      "M 4.0 - 26km NNW of Ishkashim, Tajikistan\n",
      "M 2.6 - 2km ESE of Rose Lodge, Oregon\n",
      "M 2.9 - 37km WSW of Old Iliamna, Alaska\n",
      "M 3.1 - 11km NW of Edmond, Oklahoma\n",
      "M 5.5 - 37km SSE of Suncho Corral, Argentina\n",
      "M 2.7 - 42km NNW of Culebra, Puerto Rico\n",
      "M 3.2 - 218km W of Bandon, Oregon\n",
      "M 2.6 - 21km NW of Garland, Utah\n",
      "M 2.8 - 32km NE of Cantwell, Alaska\n",
      "M 4.6 - 50km SW of Severo-Kuril'sk, Russia\n",
      "M 4.8 - 31km ESE of Tarata, Peru\n",
      "M 4.9 - 12km SE of Lithakia, Greece\n",
      "M 5.1 - 163km NE of Gisborne, New Zealand\n",
      "M 4.8 - 37km WSW of Chonchi, Chile\n",
      "M 4.6 - 110km NE of Nago, Japan\n",
      "M 2.8 - 5km NE of La Plaine, Dominica\n",
      "M 2.6 - 101km S of Unalaska, Alaska\n",
      "M 3.0 - 76km SSW of Kobuk, Alaska\n",
      "M 3.5 - 209km NNW of Wainwright, Alaska\n",
      "M 4.4 - 180km ESE of Enarotali, Indonesia\n",
      "M 2.8 - 19km N of Arecibo, Puerto Rico\n",
      "M 3.6 - 35km ENE of Alamosa East, Colorado\n",
      "M 4.8 - 93km ESE of Muara Siberut, Indonesia\n",
      "M 2.7 - 11km SSE of Volcano, Hawaii\n",
      "M 4.5 - Reykjanes Ridge\n",
      "M 2.9 - 108km SSW of Kaktovik, Alaska\n",
      "M 2.9 - 58km W of Petrolia, CA\n",
      "M 3.1 - 51km SSW of Goldfield, Nevada\n",
      "M 2.8 - 51km SSW of Goldfield, Nevada\n",
      "M 3.1 - 127km NNE of San Juan, Puerto Rico\n",
      "M 3.2 - 134km NNE of Vieques, Puerto Rico\n",
      "M 3.6 - 139km N of Road Town, British Virgin Islands\n",
      "M 2.9 - 17km ESE of Julian, CA\n",
      "M 4.4 - 230km NNW of Saumlaki, Indonesia\n",
      "M 4.4 - 201km N of Siglufjordur, Iceland\n",
      "M 4.4 - 197km N of Siglufjordur, Iceland\n",
      "M 2.8 - 20km ENE of Little Lake, CA\n",
      "M 4.7 - 12km ENE of Labuhankananga, Indonesia\n",
      "M 2.9 - 97km SSE of Boca de Yuma, Dominican Republic\n",
      "M 4.5 - 65km ESE of Caburan, Philippines\n",
      "M 4.7 - 105km ESE of Mohean, India\n",
      "M 4.6 - 79km WNW of San Antonio de los Cobres, Argentina\n",
      "M 2.8 - 41km NNE of Road Town, British Virgin Islands\n",
      "M 3.8 - 30km ENE of Alamosa East, Colorado\n",
      "M 2.9 - 64km SE of Punta Cana, Dominican Republic\n",
      "M 3.4 - 15km W of Perry, Oklahoma\n",
      "M 2.5 - 59km NNE of Vieques, Puerto Rico\n",
      "M 4.5 - 28km E of Lata, Solomon Islands\n",
      "M 3.3 - 65km SSW of Kaktovik, Alaska\n",
      "M 4.7 - 79km SW of Tugu Hilir, Indonesia\n",
      "M 4.4 - 14km NNW of Kizukuri, Japan\n",
      "M 2.5 - 19km W of Perry, Oklahoma\n",
      "M 5.0 - 140km ESE of Mohean, India\n",
      "M 2.7 - 3km NW of Punta Cana, Dominican Republic\n",
      "M 5.4 - 80km E of Surian, Indonesia\n",
      "M 2.9 - 78km NNE of Vieques, Puerto Rico\n",
      "M 2.5 - 14km ESE of Lincoln, Montana\n",
      "M 3.4 - 62km SSE of Eagle Village, Alaska\n",
      "M 2.6 - 98km SSW of Kaktovik, Alaska\n",
      "M 2.8 - 67km SSW of Kobuk, Alaska\n",
      "M 2.5 - 70km SSW of Kobuk, Alaska\n",
      "M 4.5 - West of the Galapagos Islands\n",
      "M 4.6 - West of the Galapagos Islands\n",
      "M 4.5 - 1km NW of San Gaspar Ixchil, Guatemala\n",
      "M 3.2 - 18km WNW of Medford, Oklahoma\n",
      "M 4.5 - West of the Galapagos Islands\n",
      "M 4.1 - 158km WSW of Puerto Madero, Mexico\n",
      "M 4.5 - 126km SW of Mapastepec, Mexico\n",
      "M 2.5 - 42km N of Valdez, Alaska\n",
      "M 2.8 - 108km SW of Kobuk, Alaska\n",
      "M 3.0 - 46km NNE of Road Town, British Virgin Islands\n",
      "M 2.5 - 2km WNW of The Geysers, CA\n",
      "M 5.0 - 232km ESE of Visokoi Island, South Georgia and the South Sandwich Islands\n",
      "M 5.0 - 217km NW of Saumlaki, Indonesia\n",
      "M 2.8 - 80km NE of Punta Cana, Dominican Republic\n",
      "M 4.5 - 23km NE of Abdanan, Iran\n",
      "M 4.5 - 66km ESE of Port Elizabeth, Saint Vincent and the Grenadines\n",
      "M 4.5 - 206km ENE of Petropavlovsk-Kamchatskiy, Russia\n",
      "M 3.2 - 113km N of Charlotte Amalie, U.S. Virgin Islands\n",
      "M 3.3 - 3km SE of Dorking, United Kingdom\n",
      "M 5.1 - Southern East Pacific Rise\n",
      "M 2.8 - 15km WSW of Rincon, Puerto Rico\n",
      "M 4.9 - 167km SSW of Ndoi Island, Fiji\n",
      "M 3.2 - 70km SSW of Kobuk, Alaska\n",
      "M 5.0 - 75km E of Ishinomaki, Japan\n",
      "M 4.8 - 178km SE of Pondaguitan, Philippines\n",
      "M 3.8 - 19km WNW of Medford, Oklahoma\n",
      "M 4.0 - 272km WSW of Tomatlan, Mexico\n",
      "M 3.4 - 146km NNE of Vieques, Puerto Rico\n",
      "M 2.5 - 9km NE of Arecibo, Puerto Rico\n",
      "M 3.0 - 34km NE of Ensenada, B.C., MX\n",
      "M 2.8 - 22km ESE of Seward, Alaska\n",
      "M 4.8 - 35km ENE of Pamandzi, Mayotte\n"
     ]
    }
   ],
   "source": [
    "# pull out the title from each earthquake listing\n",
    "\n",
    "for q in quakes:\n",
    "    print(q['properties']['title'])"
   ]
  },
  {
   "cell_type": "code",
   "execution_count": 8,
   "metadata": {},
   "outputs": [
    {
     "name": "stdout",
     "output_type": "stream",
     "text": [
      "264\n"
     ]
    }
   ],
   "source": [
    "# pull out magnitudes and depths into a Pandas dataframe, using\n",
    "# a more compact Python syntax for iterating through lists\n",
    "\n",
    "d = {'magnitude': [q['properties']['mag'] for q in quakes],\n",
    "     'depth': [q['geometry']['coordinates'][2] for q in quakes]}\n",
    "\n",
    "df = pd.DataFrame.from_dict(d)\n",
    "\n",
    "# how many earthquakes were loaded into the dataframe?\n",
    "print(len(df))"
   ]
  },
  {
   "cell_type": "code",
   "execution_count": 9,
   "metadata": {},
   "outputs": [
    {
     "name": "stdout",
     "output_type": "stream",
     "text": [
      "   magnitude   depth\n",
      "0        4.9   24.14\n",
      "1        4.4  120.05\n",
      "2        3.6   10.00\n",
      "3        3.5   19.99\n",
      "4        4.8   39.81\n"
     ]
    }
   ],
   "source": [
    "# print the first few lines of data\n",
    "\n",
    "print(df.head())"
   ]
  },
  {
   "cell_type": "code",
   "execution_count": 10,
   "metadata": {},
   "outputs": [
    {
     "name": "stdout",
     "output_type": "stream",
     "text": [
      "        magnitude       depth\n",
      "count  264.000000  264.000000\n",
      "mean     3.655417   47.426856\n",
      "std      0.964096   84.580945\n",
      "min      2.450000   -0.450000\n",
      "25%      2.800000   10.000000\n",
      "50%      3.365000   15.445000\n",
      "75%      4.500000   49.300000\n",
      "max      7.000000  587.180000\n"
     ]
    }
   ],
   "source": [
    "# print some descriptive statistics\n",
    "\n",
    "print(df.describe())"
   ]
  },
  {
   "cell_type": "code",
   "execution_count": 11,
   "metadata": {},
   "outputs": [
    {
     "data": {
      "text/plain": [
       "<matplotlib.axes._subplots.AxesSubplot at 0x11fd9c4e0>"
      ]
     },
     "execution_count": 11,
     "metadata": {},
     "output_type": "execute_result"
    },
    {
     "data": {
      "image/png": "[encoded data removed]",
      "text/plain": [
       "<Figure size 432x288 with 1 Axes>"
      ]
     },
     "metadata": {
      "needs_background": "light"
     },
     "output_type": "display_data"
    }
   ],
   "source": [
    "# plot the depth vs. magnitude\n",
    "\n",
    "df.plot(x='magnitude', y='depth', kind='scatter')"
   ]
  },
  {
   "cell_type": "code",
   "execution_count": 12,
   "metadata": {},
   "outputs": [
    {
     "name": "stdout",
     "output_type": "stream",
     "text": [
      "file saved\n"
     ]
    }
   ],
   "source": [
    "# save the dataframe to disk\n",
    "\n",
    "df.to_csv('usgs_earthquake_data.csv')\n",
    "\n",
    "print('file saved')"
   ]
  },
  {
   "cell_type": "code",
   "execution_count": 13,
   "metadata": {},
   "outputs": [
    {
     "name": "stdout",
     "output_type": "stream",
     "text": [
      "   magnitude   depth\n",
      "0        4.9   24.14\n",
      "1        4.4  120.05\n",
      "2        3.6   10.00\n",
      "3        3.5   19.99\n",
      "4        4.8   39.81\n"
     ]
    },
    {
     "name": "stderr",
     "output_type": "stream",
     "text": [
      "/Users/khulood/anaconda3/lib/python3.7/site-packages/ipykernel_launcher.py:3: FutureWarning: from_csv is deprecated. Please use read_csv(...) instead. Note that some of the default arguments are different, so please refer to the documentation for from_csv when changing your function calls\n",
      "  This is separate from the ipykernel package so we can avoid doing imports until\n"
     ]
    }
   ],
   "source": [
    "# read it back later\n",
    "\n",
    "new_df = pd.DataFrame.from_csv('usgs_earthquake_data.csv')\n",
    "\n",
    "print(new_df.head())"
   ]
  },
  {
   "cell_type": "code",
   "execution_count": null,
   "metadata": {
    "collapsed": true
   },
   "outputs": [],
   "source": []
  },
  {
   "cell_type": "code",
   "execution_count": null,
   "metadata": {
    "collapsed": true
   },
   "outputs": [],
   "source": []
  },
  {
   "cell_type": "code",
   "execution_count": null,
   "metadata": {
    "collapsed": true
   },
   "outputs": [],
   "source": []
  },
  {
   "cell_type": "markdown",
   "metadata": {},
   "source": [
    "# Part 2: Querying an API endpoint\n",
    "\n",
    "### Google Maps Geocoding API\n",
    "\n",
    "Google has lots of APIs that let you access its services through code instead of through GUI apps. This one from Google Maps lets you look up the latitude-longitude coordinates of street addresses.\n",
    "\n",
    "It works similarly to the earthquakes example, but with query parameters added to the URL endpoint!\n",
    "\n",
    "**API documentation:**  \n",
    "https://developers.google.com/maps/documentation/geocoding/intro\n",
    "\n",
    "**API endpoint:**  \n",
    "https://maps.googleapis.com/maps/api/geocode/json\n",
    "\n",
    "**API endpoint with query parameters:**  \n",
    "https://maps.googleapis.com/maps/api/geocode/json?address=Wurster+Hall"
   ]
  },
  {
   "cell_type": "code",
   "execution_count": null,
   "metadata": {
    "collapsed": true
   },
   "outputs": [],
   "source": [
    "import json    # library for working with JSON-formatted text strings\n",
    "import requests  # library for accessing content from web URLs\n",
    "\n",
    "import pprint  # library for making Python data structures readable\n",
    "pp = pprint.PrettyPrinter()"
   ]
  },
  {
   "cell_type": "code",
   "execution_count": null,
   "metadata": {},
   "outputs": [],
   "source": [
    "# we have to encode the search query so that it can be passed as a URL, \n",
    "# with spaces and other special characters removed\n",
    "\n",
    "endpoint = 'https://maps.googleapis.com/maps/api/geocode/json'\n",
    "\n",
    "params = {'address': 'young library uky'}\n",
    "\n",
    "url = requests.Request('GET', endpoint, params=params).prepare().url\n",
    "print(url)"
   ]
  },
  {
   "cell_type": "code",
   "execution_count": null,
   "metadata": {},
   "outputs": [],
   "source": [
    "# download and parse the results\n",
    "\n",
    "response = requests.get(url)\n",
    "results = response.text\n",
    "data = json.loads(results)\n",
    "\n",
    "print(data)"
   ]
  },
  {
   "cell_type": "code",
   "execution_count": null,
   "metadata": {},
   "outputs": [],
   "source": [
    "# print it more nicely\n",
    "\n",
    "pp.pprint(data)"
   ]
  },
  {
   "cell_type": "code",
   "execution_count": null,
   "metadata": {},
   "outputs": [],
   "source": [
    "# pull out the lat-lon coordinates\n",
    "\n",
    "for r in data['results']:\n",
    "    coords = r['geometry']['location']\n",
    "    print(coords['lat'], coords['lng'])"
   ]
  },
  {
   "cell_type": "markdown",
   "metadata": {},
   "source": [
    "### Exercises\n",
    "\n",
    "1. Search for some other addresses or landmarks!\n",
    "2. Take a look at the [API documentation](https://developers.google.com/maps/documentation/geocoding/intro). What are the usage limits?"
   ]
  },
  {
   "cell_type": "code",
   "execution_count": null,
   "metadata": {
    "collapsed": true
   },
   "outputs": [],
   "source": []
  },
  {
   "cell_type": "code",
   "execution_count": null,
   "metadata": {
    "collapsed": true
   },
   "outputs": [],
   "source": []
  },
  {
   "cell_type": "code",
   "execution_count": null,
   "metadata": {
    "collapsed": true
   },
   "outputs": [],
   "source": []
  },
  {
   "cell_type": "markdown",
   "metadata": {},
   "source": [
    "# Part 3: Querying an API with authentication\n",
    "\n",
    "### Twitter REST APIs\n",
    "\n",
    "Twitter's APIs also operate over the web, but they require a back-and-forth authentication process at the beginning of each connection. It's easier to have a Python library handle this than to create the query URLs ourselves.\n",
    "\n",
    "The Twitter \"REST\" APIs perform stand-alone operations: you submit a query and receive results, like in earlier examples. ([REST](https://en.wikipedia.org/wiki/Representational_state_transfer) is a particular set of guidelines that many APIs follow.) Twitter also has a \"streaming\" API that continues sending results in real time until you disconnect.\n",
    "\n",
    "**API documentation:**  \n",
    "https://dev.twitter.com/rest/public  \n",
    "https://dev.twitter.com/overview/api/tweets\n",
    "\n",
    "**Documentation for the Python helper library**:  \n",
    "https://github.com/geduldig/TwitterAPI"
   ]
  },
  {
   "cell_type": "code",
   "execution_count": 19,
   "metadata": {},
   "outputs": [],
   "source": [
    "from TwitterAPI import TwitterAPI\n",
    "\n",
    "import pprint  # library for making Python data structures readable\n",
    "pp = pprint.PrettyPrinter()"
   ]
  },
  {
   "cell_type": "code",
   "execution_count": 20,
   "metadata": {},
   "outputs": [],
   "source": [
    "# import API credentials from keys.py file in the\n",
    "# same directory as this notebook\n",
    "\n",
    "from keys import *"
   ]
  },
  {
   "cell_type": "code",
   "execution_count": 21,
   "metadata": {},
   "outputs": [
    {
     "name": "stdout",
     "output_type": "stream",
     "text": [
      "Connection is set up but not tested\n"
     ]
    }
   ],
   "source": [
    "# set up an API connection using credentials from the keys file\n",
    "\n",
    "api = TwitterAPI(consumer_key, consumer_secret, \n",
    "                 access_token, access_token_secret)\n",
    "\n",
    "print(\"Connection is set up but not tested\")"
   ]
  },
  {
   "cell_type": "markdown",
   "metadata": {},
   "source": [
    "### Making a simple data request"
   ]
  },
  {
   "cell_type": "code",
   "execution_count": 22,
   "metadata": {},
   "outputs": [
    {
     "name": "stdout",
     "output_type": "stream",
     "text": [
      "RT @KentuckyMBB: It’s that time. Gotta start getting locked in. Game day starts now. #UKvsOM https://t.co/jbuMQtdKsj\n"
     ]
    }
   ],
   "source": [
    "# most recent tweet from @UCBerkeley's timeline\n",
    "\n",
    "endpoint = 'statuses/user_timeline'\n",
    "params = {\n",
    "    'screen_name': 'UKAthletics', \n",
    "    'count': 1\n",
    "}\n",
    "r = api.request(endpoint, params)\n",
    "\n",
    "for tweet in r.get_iterator():\n",
    "    print(tweet['text'])"
   ]
  },
  {
   "cell_type": "code",
   "execution_count": 23,
   "metadata": {},
   "outputs": [
    {
     "name": "stdout",
     "output_type": "stream",
     "text": [
      "{'contributors': None,\n",
      " 'coordinates': None,\n",
      " 'created_at': 'Tue Mar 05 18:09:19 +0000 2019',\n",
      " 'entities': {'hashtags': [{'indices': [85, 92], 'text': 'UKvsOM'}],\n",
      "              'media': [{'display_url': 'pic.twitter.com/jbuMQtdKsj',\n",
      "                         'expanded_url': 'https://twitter.com/KentuckyMBB/status/1102994479110410241/video/1',\n",
      "                         'id': 1102994418364223494,\n",
      "                         'id_str': '1102994418364223494',\n",
      "                         'indices': [93, 116],\n",
      "                         'media_url': 'http://pbs.twimg.com/ext_tw_video_thumb/1102994418364223494/pu/img/Nm7fy9c5C8v26wye.jpg',\n",
      "                         'media_url_https': 'https://pbs.twimg.com/ext_tw_video_thumb/1102994418364223494/pu/img/Nm7fy9c5C8v26wye.jpg',\n",
      "                         'sizes': {'large': {'h': 720,\n",
      "                                             'resize': 'fit',\n",
      "                                             'w': 1280},\n",
      "                                   'medium': {'h': 675,\n",
      "                                              'resize': 'fit',\n",
      "                                              'w': 1200},\n",
      "                                   'small': {'h': 383,\n",
      "                                             'resize': 'fit',\n",
      "                                             'w': 680},\n",
      "                                   'thumb': {'h': 150,\n",
      "                                             'resize': 'crop',\n",
      "                                             'w': 150}},\n",
      "                         'source_status_id': 1102994479110410241,\n",
      "                         'source_status_id_str': '1102994479110410241',\n",
      "                         'source_user_id': 35583547,\n",
      "                         'source_user_id_str': '35583547',\n",
      "                         'type': 'photo',\n",
      "                         'url': 'https://t.co/jbuMQtdKsj'}],\n",
      "              'symbols': [],\n",
      "              'urls': [],\n",
      "              'user_mentions': [{'id': 35583547,\n",
      "                                 'id_str': '35583547',\n",
      "                                 'indices': [3, 15],\n",
      "                                 'name': 'Kentucky Basketball',\n",
      "                                 'screen_name': 'KentuckyMBB'}]},\n",
      " 'extended_entities': {'media': [{'additional_media_info': {'monetizable': False,\n",
      "                                                            'source_user': {'contributors_enabled': False,\n",
      "                                                                            'created_at': 'Sun '\n",
      "                                                                                          'Apr '\n",
      "                                                                                          '26 '\n",
      "                                                                                          '22:25:01 '\n",
      "                                                                                          '+0000 '\n",
      "                                                                                          '2009',\n",
      "                                                                            'default_profile': False,\n",
      "                                                                            'default_profile_image': False,\n",
      "                                                                            'description': 'The '\n",
      "                                                                                           'official '\n",
      "                                                                                           'Twitter '\n",
      "                                                                                           'account '\n",
      "                                                                                           'for '\n",
      "                                                                                           'the '\n",
      "                                                                                           'eight-time '\n",
      "                                                                                           'national '\n",
      "                                                                                           'champion '\n",
      "                                                                                           'Kentucky '\n",
      "                                                                                           \"men's \"\n",
      "                                                                                           'basketball '\n",
      "                                                                                           'team, '\n",
      "                                                                                           'the '\n",
      "                                                                                           'winningest '\n",
      "                                                                                           'program '\n",
      "                                                                                           'in '\n",
      "                                                                                           'college '\n",
      "                                                                                           'basketball. '\n",
      "                                                                                           '#DreamBIG',\n",
      "                                                                            'entities': {'description': {'urls': []},\n",
      "                                                                                         'url': {'urls': [{'display_url': 'ukathletics.com',\n",
      "                                                                                                           'expanded_url': 'http://ukathletics.com',\n",
      "                                                                                                           'indices': [0,\n",
      "                                                                                                                       23],\n",
      "                                                                                                           'url': 'https://t.co/kMUdWRDbJ6'}]}},\n",
      "                                                                            'favourites_count': 387,\n",
      "                                                                            'follow_request_sent': False,\n",
      "                                                                            'followers_count': 769220,\n",
      "                                                                            'following': False,\n",
      "                                                                            'friends_count': 627,\n",
      "                                                                            'geo_enabled': True,\n",
      "                                                                            'has_extended_profile': False,\n",
      "                                                                            'id': 35583547,\n",
      "                                                                            'id_str': '35583547',\n",
      "                                                                            'is_translation_enabled': False,\n",
      "                                                                            'is_translator': False,\n",
      "                                                                            'lang': 'en',\n",
      "                                                                            'listed_count': 1142,\n",
      "                                                                            'location': 'Rupp '\n",
      "                                                                                        'Arena',\n",
      "                                                                            'name': 'Kentucky '\n",
      "                                                                                    'Basketball',\n",
      "                                                                            'notifications': False,\n",
      "                                                                            'profile_background_color': '0A11B8',\n",
      "                                                                            'profile_background_image_url': 'http://abs.twimg.com/images/themes/theme1/bg.png',\n",
      "                                                                            'profile_background_image_url_https': 'https://abs.twimg.com/images/themes/theme1/bg.png',\n",
      "                                                                            'profile_background_tile': False,\n",
      "                                                                            'profile_banner_url': 'https://pbs.twimg.com/profile_banners/35583547/1502115999',\n",
      "                                                                            'profile_image_url': 'http://pbs.twimg.com/profile_images/875807773619040257/Z-qMKViO_normal.jpg',\n",
      "                                                                            'profile_image_url_https': 'https://pbs.twimg.com/profile_images/875807773619040257/Z-qMKViO_normal.jpg',\n",
      "                                                                            'profile_link_color': '060404',\n",
      "                                                                            'profile_sidebar_border_color': 'FFFFFF',\n",
      "                                                                            'profile_sidebar_fill_color': 'FFFFFF',\n",
      "                                                                            'profile_text_color': '060404',\n",
      "                                                                            'profile_use_background_image': True,\n",
      "                                                                            'protected': False,\n",
      "                                                                            'screen_name': 'KentuckyMBB',\n",
      "                                                                            'statuses_count': 32936,\n",
      "                                                                            'time_zone': None,\n",
      "                                                                            'translator_type': 'none',\n",
      "                                                                            'url': 'https://t.co/kMUdWRDbJ6',\n",
      "                                                                            'utc_offset': None,\n",
      "                                                                            'verified': True}},\n",
      "                                  'display_url': 'pic.twitter.com/jbuMQtdKsj',\n",
      "                                  'expanded_url': 'https://twitter.com/KentuckyMBB/status/1102994479110410241/video/1',\n",
      "                                  'id': 1102994418364223494,\n",
      "                                  'id_str': '1102994418364223494',\n",
      "                                  'indices': [93, 116],\n",
      "                                  'media_url': 'http://pbs.twimg.com/ext_tw_video_thumb/1102994418364223494/pu/img/Nm7fy9c5C8v26wye.jpg',\n",
      "                                  'media_url_https': 'https://pbs.twimg.com/ext_tw_video_thumb/1102994418364223494/pu/img/Nm7fy9c5C8v26wye.jpg',\n",
      "                                  'sizes': {'large': {'h': 720,\n",
      "                                                      'resize': 'fit',\n",
      "                                                      'w': 1280},\n",
      "                                            'medium': {'h': 675,\n",
      "                                                       'resize': 'fit',\n",
      "                                                       'w': 1200},\n",
      "                                            'small': {'h': 383,\n",
      "                                                      'resize': 'fit',\n",
      "                                                      'w': 680},\n",
      "                                            'thumb': {'h': 150,\n",
      "                                                      'resize': 'crop',\n",
      "                                                      'w': 150}},\n",
      "                                  'source_status_id': 1102994479110410241,\n",
      "                                  'source_status_id_str': '1102994479110410241',\n",
      "                                  'source_user_id': 35583547,\n",
      "                                  'source_user_id_str': '35583547',\n",
      "                                  'type': 'video',\n",
      "                                  'url': 'https://t.co/jbuMQtdKsj',\n",
      "                                  'video_info': {'aspect_ratio': [16, 9],\n",
      "                                                 'duration_millis': 12567,\n",
      "                                                 'variants': [{'bitrate': 2176000,\n",
      "                                                               'content_type': 'video/mp4',\n",
      "                                                               'url': 'https://video.twimg.com/ext_tw_video/1102994418364223494/pu/vid/1280x720/HxCYEzSfhA8wusq5.mp4?tag=6'},\n",
      "                                                              {'bitrate': 832000,\n",
      "                                                               'content_type': 'video/mp4',\n",
      "                                                               'url': 'https://video.twimg.com/ext_tw_video/1102994418364223494/pu/vid/640x360/RbSdH6mbLUJH7KhU.mp4?tag=6'},\n",
      "                                                              {'bitrate': 256000,\n",
      "                                                               'content_type': 'video/mp4',\n",
      "                                                               'url': 'https://video.twimg.com/ext_tw_video/1102994418364223494/pu/vid/320x180/yazLeUPTeHsxdWlW.mp4?tag=6'},\n",
      "                                                              {'content_type': 'application/x-mpegURL',\n",
      "                                                               'url': 'https://video.twimg.com/ext_tw_video/1102994418364223494/pu/pl/yl20AxaazyldyVj4.m3u8?tag=6'}]}}]},\n",
      " 'favorite_count': 0,\n",
      " 'favorited': False,\n",
      " 'geo': None,\n",
      " 'id': 1102994512480219136,\n",
      " 'id_str': '1102994512480219136',\n",
      " 'in_reply_to_screen_name': None,\n",
      " 'in_reply_to_status_id': None,\n",
      " 'in_reply_to_status_id_str': None,\n",
      " 'in_reply_to_user_id': None,\n",
      " 'in_reply_to_user_id_str': None,\n",
      " 'is_quote_status': False,\n",
      " 'lang': 'en',\n",
      " 'place': None,\n",
      " 'possibly_sensitive': False,\n",
      " 'retweet_count': 12,\n",
      " 'retweeted': False,\n",
      " 'retweeted_status': {'contributors': None,\n",
      "                      'coordinates': None,\n",
      "                      'created_at': 'Tue Mar 05 18:09:11 +0000 2019',\n",
      "                      'entities': {'hashtags': [{'indices': [68, 75],\n",
      "                                                 'text': 'UKvsOM'}],\n",
      "                                   'media': [{'display_url': 'pic.twitter.com/jbuMQtdKsj',\n",
      "                                              'expanded_url': 'https://twitter.com/KentuckyMBB/status/1102994479110410241/video/1',\n",
      "                                              'id': 1102994418364223494,\n",
      "                                              'id_str': '1102994418364223494',\n",
      "                                              'indices': [76, 99],\n",
      "                                              'media_url': 'http://pbs.twimg.com/ext_tw_video_thumb/1102994418364223494/pu/img/Nm7fy9c5C8v26wye.jpg',\n",
      "                                              'media_url_https': 'https://pbs.twimg.com/ext_tw_video_thumb/1102994418364223494/pu/img/Nm7fy9c5C8v26wye.jpg',\n",
      "                                              'sizes': {'large': {'h': 720,\n",
      "                                                                  'resize': 'fit',\n",
      "                                                                  'w': 1280},\n",
      "                                                        'medium': {'h': 675,\n",
      "                                                                   'resize': 'fit',\n",
      "                                                                   'w': 1200},\n",
      "                                                        'small': {'h': 383,\n",
      "                                                                  'resize': 'fit',\n",
      "                                                                  'w': 680},\n",
      "                                                        'thumb': {'h': 150,\n",
      "                                                                  'resize': 'crop',\n",
      "                                                                  'w': 150}},\n",
      "                                              'type': 'photo',\n",
      "                                              'url': 'https://t.co/jbuMQtdKsj'}],\n",
      "                                   'symbols': [],\n",
      "                                   'urls': [],\n",
      "                                   'user_mentions': []},\n",
      "                      'extended_entities': {'media': [{'additional_media_info': {'monetizable': False},\n",
      "                                                       'display_url': 'pic.twitter.com/jbuMQtdKsj',\n",
      "                                                       'expanded_url': 'https://twitter.com/KentuckyMBB/status/1102994479110410241/video/1',\n",
      "                                                       'id': 1102994418364223494,\n",
      "                                                       'id_str': '1102994418364223494',\n",
      "                                                       'indices': [76, 99],\n",
      "                                                       'media_url': 'http://pbs.twimg.com/ext_tw_video_thumb/1102994418364223494/pu/img/Nm7fy9c5C8v26wye.jpg',\n",
      "                                                       'media_url_https': 'https://pbs.twimg.com/ext_tw_video_thumb/1102994418364223494/pu/img/Nm7fy9c5C8v26wye.jpg',\n",
      "                                                       'sizes': {'large': {'h': 720,\n",
      "                                                                           'resize': 'fit',\n",
      "                                                                           'w': 1280},\n",
      "                                                                 'medium': {'h': 675,\n",
      "                                                                            'resize': 'fit',\n",
      "                                                                            'w': 1200},\n",
      "                                                                 'small': {'h': 383,\n",
      "                                                                           'resize': 'fit',\n",
      "                                                                           'w': 680},\n",
      "                                                                 'thumb': {'h': 150,\n",
      "                                                                           'resize': 'crop',\n",
      "                                                                           'w': 150}},\n",
      "                                                       'type': 'video',\n",
      "                                                       'url': 'https://t.co/jbuMQtdKsj',\n",
      "                                                       'video_info': {'aspect_ratio': [16,\n",
      "                                                                                       9],\n",
      "                                                                      'duration_millis': 12567,\n",
      "                                                                      'variants': [{'bitrate': 2176000,\n",
      "                                                                                    'content_type': 'video/mp4',\n",
      "                                                                                    'url': 'https://video.twimg.com/ext_tw_video/1102994418364223494/pu/vid/1280x720/HxCYEzSfhA8wusq5.mp4?tag=6'},\n",
      "                                                                                   {'bitrate': 832000,\n",
      "                                                                                    'content_type': 'video/mp4',\n",
      "                                                                                    'url': 'https://video.twimg.com/ext_tw_video/1102994418364223494/pu/vid/640x360/RbSdH6mbLUJH7KhU.mp4?tag=6'},\n",
      "                                                                                   {'bitrate': 256000,\n",
      "                                                                                    'content_type': 'video/mp4',\n",
      "                                                                                    'url': 'https://video.twimg.com/ext_tw_video/1102994418364223494/pu/vid/320x180/yazLeUPTeHsxdWlW.mp4?tag=6'},\n",
      "                                                                                   {'content_type': 'application/x-mpegURL',\n",
      "                                                                                    'url': 'https://video.twimg.com/ext_tw_video/1102994418364223494/pu/pl/yl20AxaazyldyVj4.m3u8?tag=6'}]}}]},\n",
      "                      'favorite_count': 86,\n",
      "                      'favorited': False,\n",
      "                      'geo': None,\n",
      "                      'id': 1102994479110410241,\n",
      "                      'id_str': '1102994479110410241',\n",
      "                      'in_reply_to_screen_name': None,\n",
      "                      'in_reply_to_status_id': None,\n",
      "                      'in_reply_to_status_id_str': None,\n",
      "                      'in_reply_to_user_id': None,\n",
      "                      'in_reply_to_user_id_str': None,\n",
      "                      'is_quote_status': False,\n",
      "                      'lang': 'en',\n",
      "                      'place': {'attributes': {},\n",
      "                                'bounding_box': {'coordinates': [[[-89.536015,\n",
      "                                                                   34.361955],\n",
      "                                                                  [-89.536015,\n",
      "                                                                   34.361955],\n",
      "                                                                  [-89.536015,\n",
      "                                                                   34.361955],\n",
      "                                                                  [-89.536015,\n",
      "                                                                   34.361955]]],\n",
      "                                                 'type': 'Polygon'},\n",
      "                                'contained_within': [],\n",
      "                                'country': 'United States',\n",
      "                                'country_code': 'US',\n",
      "                                'full_name': 'The Pavilion',\n",
      "                                'id': '091270c9be54c000',\n",
      "                                'name': 'The Pavilion',\n",
      "                                'place_type': 'poi',\n",
      "                                'url': 'https://api.twitter.com/1.1/geo/id/091270c9be54c000.json'},\n",
      "                      'possibly_sensitive': False,\n",
      "                      'retweet_count': 12,\n",
      "                      'retweeted': False,\n",
      "                      'source': '<a href=\"http://twitter.com/download/iphone\" '\n",
      "                                'rel=\"nofollow\">Twitter for iPhone</a>',\n",
      "                      'text': 'It’s that time. Gotta start getting locked in. '\n",
      "                              'Game day starts now. #UKvsOM '\n",
      "                              'https://t.co/jbuMQtdKsj',\n",
      "                      'truncated': False,\n",
      "                      'user': {'contributors_enabled': False,\n",
      "                               'created_at': 'Sun Apr 26 22:25:01 +0000 2009',\n",
      "                               'default_profile': False,\n",
      "                               'default_profile_image': False,\n",
      "                               'description': 'The official Twitter account '\n",
      "                                              'for the eight-time national '\n",
      "                                              \"champion Kentucky men's \"\n",
      "                                              'basketball team, the winningest '\n",
      "                                              'program in college basketball. '\n",
      "                                              '#DreamBIG',\n",
      "                               'entities': {'description': {'urls': []},\n",
      "                                            'url': {'urls': [{'display_url': 'ukathletics.com',\n",
      "                                                              'expanded_url': 'http://ukathletics.com',\n",
      "                                                              'indices': [0,\n",
      "                                                                          23],\n",
      "                                                              'url': 'https://t.co/kMUdWRDbJ6'}]}},\n",
      "                               'favourites_count': 387,\n",
      "                               'follow_request_sent': False,\n",
      "                               'followers_count': 769220,\n",
      "                               'following': False,\n",
      "                               'friends_count': 627,\n",
      "                               'geo_enabled': True,\n",
      "                               'has_extended_profile': False,\n",
      "                               'id': 35583547,\n",
      "                               'id_str': '35583547',\n",
      "                               'is_translation_enabled': False,\n",
      "                               'is_translator': False,\n",
      "                               'lang': 'en',\n",
      "                               'listed_count': 1142,\n",
      "                               'location': 'Rupp Arena',\n",
      "                               'name': 'Kentucky Basketball',\n",
      "                               'notifications': False,\n",
      "                               'profile_background_color': '0A11B8',\n",
      "                               'profile_background_image_url': 'http://abs.twimg.com/images/themes/theme1/bg.png',\n",
      "                               'profile_background_image_url_https': 'https://abs.twimg.com/images/themes/theme1/bg.png',\n",
      "                               'profile_background_tile': False,\n",
      "                               'profile_banner_url': 'https://pbs.twimg.com/profile_banners/35583547/1502115999',\n",
      "                               'profile_image_url': 'http://pbs.twimg.com/profile_images/875807773619040257/Z-qMKViO_normal.jpg',\n",
      "                               'profile_image_url_https': 'https://pbs.twimg.com/profile_images/875807773619040257/Z-qMKViO_normal.jpg',\n",
      "                               'profile_link_color': '060404',\n",
      "                               'profile_sidebar_border_color': 'FFFFFF',\n",
      "                               'profile_sidebar_fill_color': 'FFFFFF',\n",
      "                               'profile_text_color': '060404',\n",
      "                               'profile_use_background_image': True,\n",
      "                               'protected': False,\n",
      "                               'screen_name': 'KentuckyMBB',\n",
      "                               'statuses_count': 32936,\n",
      "                               'time_zone': None,\n",
      "                               'translator_type': 'none',\n",
      "                               'url': 'https://t.co/kMUdWRDbJ6',\n",
      "                               'utc_offset': None,\n",
      "                               'verified': True}},\n",
      " 'source': '<a href=\"http://twitter.com/download/iphone\" '\n",
      "           'rel=\"nofollow\">Twitter for iPhone</a>',\n",
      " 'text': 'RT @KentuckyMBB: It’s that time. Gotta start getting locked in. Game '\n",
      "         'day starts now. #UKvsOM https://t.co/jbuMQtdKsj',\n",
      " 'truncated': False,\n",
      " 'user': {'contributors_enabled': False,\n",
      "          'created_at': 'Tue Mar 17 18:41:37 +0000 2009',\n",
      "          'default_profile': False,\n",
      "          'default_profile_image': False,\n",
      "          'description': 'The official Twitter account of the University of '\n",
      "                         'Kentucky Athletics Department. Facebook: Kentucky '\n",
      "                         'Wildcats; Instagram: ukathletics',\n",
      "          'entities': {'description': {'urls': []},\n",
      "                       'url': {'urls': [{'display_url': 'ukathletics.com',\n",
      "                                         'expanded_url': 'http://www.ukathletics.com/',\n",
      "                                         'indices': [0, 23],\n",
      "                                         'url': 'https://t.co/Zqcn6uhNdp'}]}},\n",
      "          'favourites_count': 4798,\n",
      "          'follow_request_sent': False,\n",
      "          'followers_count': 329940,\n",
      "          'following': False,\n",
      "          'friends_count': 867,\n",
      "          'geo_enabled': True,\n",
      "          'has_extended_profile': False,\n",
      "          'id': 24929053,\n",
      "          'id_str': '24929053',\n",
      "          'is_translation_enabled': False,\n",
      "          'is_translator': False,\n",
      "          'lang': 'en',\n",
      "          'listed_count': 1368,\n",
      "          'location': 'Lexington, Ky.',\n",
      "          'name': 'Kentucky Athletics',\n",
      "          'notifications': False,\n",
      "          'profile_background_color': '000738',\n",
      "          'profile_background_image_url': 'http://abs.twimg.com/images/themes/theme9/bg.gif',\n",
      "          'profile_background_image_url_https': 'https://abs.twimg.com/images/themes/theme9/bg.gif',\n",
      "          'profile_background_tile': False,\n",
      "          'profile_banner_url': 'https://pbs.twimg.com/profile_banners/24929053/1536335213',\n",
      "          'profile_image_url': 'http://pbs.twimg.com/profile_images/875802157605408769/-DftO40K_normal.jpg',\n",
      "          'profile_image_url_https': 'https://pbs.twimg.com/profile_images/875802157605408769/-DftO40K_normal.jpg',\n",
      "          'profile_link_color': '084AE7',\n",
      "          'profile_sidebar_border_color': 'FFFFFF',\n",
      "          'profile_sidebar_fill_color': 'FFFFFF',\n",
      "          'profile_text_color': '787878',\n",
      "          'profile_use_background_image': True,\n",
      "          'protected': False,\n",
      "          'screen_name': 'UKAthletics',\n",
      "          'statuses_count': 46962,\n",
      "          'time_zone': None,\n",
      "          'translator_type': 'none',\n",
      "          'url': 'https://t.co/Zqcn6uhNdp',\n",
      "          'utc_offset': None,\n",
      "          'verified': True}}\n"
     ]
    }
   ],
   "source": [
    "# what other data is there?\n",
    "\n",
    "pp.pprint(tweet)"
   ]
  },
  {
   "cell_type": "markdown",
   "metadata": {},
   "source": [
    "### Other API endpoints allow different types of searches"
   ]
  },
  {
   "cell_type": "code",
   "execution_count": 24,
   "metadata": {},
   "outputs": [
    {
     "name": "stdout",
     "output_type": "stream",
     "text": [
      "Lynn Bowden is already a star but who else should #BBN be watching closely at receiver this spring? https://t.co/ZDBG4iYmhF\n",
      "\n",
      "Gameday!\n",
      "https://t.co/cqfivK2FqK  #BBN #WeAreUK\n",
      "\n",
      "Congratulations to everyone from @KentuckyWBB who earned All-SEC Basketball honors: https://t.co/N77SIaeVH2 #BBN #poWEr\n",
      "\n",
      "RT @davebouv1: This year was a dream! @Elitehighlight #BBN https://t.co/UxAWZ3cqCP\n",
      "\n",
      "RT @KentuckySports: There are multiple ways to get connected to tonight's UK-Mississippi basketball game. They're all here. #BBN https://t.…\n",
      "\n"
     ]
    }
   ],
   "source": [
    "# search for public tweets about #BBN\n",
    "\n",
    "endpoint = 'search/tweets'\n",
    "params = {\n",
    "    'q': '#BBN', \n",
    "    'count': 5\n",
    "}\n",
    "r = api.request(endpoint, params)\n",
    "\n",
    "for tweet in r.get_iterator():\n",
    "    print(tweet['text'] + '\\n')"
   ]
  },
  {
   "cell_type": "code",
   "execution_count": 25,
   "metadata": {},
   "outputs": [
    {
     "name": "stdout",
     "output_type": "stream",
     "text": [
      "@DrKumarVishwas @PTIofficial kumar bhai indian media ko kya bachoge..inki murkhta hi inko le dubegi\n",
      "\n",
      "RT @abhishkJntrMnt: #surgicalstrike2 #Balakot #IndianAirForce #IndiaStrikesBack ke bare me pakistan kya kh rha hai .. https://t.co/NMreImCN…\n",
      "\n",
      "RT @DrKumarVishwas: एक बार रोडवेज़ की बस में नीचे से ठकठक करते एक “खाये-पिये मुस्टंडें” बौने-भिखारी ने ख़ूब गिड़गिड़ा कर लार टपकाते हुए कई…\n",
      "\n",
      "वक्त के बदले वक्त जो मांग लिया था||\n",
      "\n",
      "RT @santoshgangwar: असंगठित क्षेत्र के भाई-बहनों की  जीवनसंध्या अर्थात 60 वर्ष की आयु के बाद का उनका जीवन गरीबी, असुरक्षा और मायूसी का न हो…\n",
      "\n"
     ]
    }
   ],
   "source": [
    "# search for public tweets in Hindi\n",
    "\n",
    "endpoint = 'search/tweets'\n",
    "params = {\n",
    "    'q': '*', \n",
    "    'lang': 'hi', \n",
    "    'count': 5\n",
    "} \n",
    "r = api.request(endpoint, params)\n",
    "\n",
    "for tweet in r.get_iterator():\n",
    "    print(tweet['text'] + '\\n')"
   ]
  },
  {
   "cell_type": "code",
   "execution_count": 26,
   "metadata": {},
   "outputs": [
    {
     "name": "stdout",
     "output_type": "stream",
     "text": [
      "Students Make the Best Teachers! New BLOG! Students Make the Best Teachers  https://t.co/h4fau911BK\n",
      "\n",
      "I hope Dr. Everett McCorvey sings the national anthem Saturday at Rupp Arena. He would be perfect for UK Senior Day… https://t.co/4TVMbwQBS0\n",
      "\n",
      "Madama Butterfly 🦋\n",
      "#Opera #GNO @ Singletary Center for the Arts https://t.co/XgxZUlBBB5\n",
      "\n",
      "hbd justin bieber ( michael_rutherford_ ) hope you have the worst day ever cause you deserve it 🥴 swipe for a surpr… https://t.co/cKupMId15q\n",
      "\n",
      ".@universityofky can you please turn on the heat in the graduate student study? It's hard to write dissertations wi… https://t.co/bzFJSE26lc\n",
      "\n",
      "Thanks uk_bgpsa !  We want to share to help, sharing is caring!… https://t.co/BmgJMqy09a\n",
      "\n",
      "*classmate saying she didnt do an assignment due at2*\n",
      "*me stressin cause i thought it was this class*\n",
      "her: oh no it… https://t.co/JbMjWEQsRu\n",
      "\n",
      "#kirkfarms @ Kirkpatrick &amp; Co. https://t.co/OUAuIXoDM2\n",
      "\n",
      "We are excited to have Shelby Napier and the Royal Spring MS 8th Grade Band for our final side by side rehearsal of… https://t.co/Hc9kY3Ls0m\n",
      "\n",
      "Highlight of my studying: Virginia Tech beating Duke 🤩🤩\n",
      "\n"
     ]
    }
   ],
   "source": [
    "# search for public tweets geotagged near the UK campus\n",
    "\n",
    "endpoint = 'search/tweets'\n",
    "params = {\n",
    "    'q': '*', \n",
    "    'geocode': '38.034,-84.500,0.5km', \n",
    "    'count': 10\n",
    "} \n",
    "r = api.request(endpoint, params)\n",
    "\n",
    "for tweet in r.get_iterator():\n",
    "    print(tweet['text'] + '\\n')"
   ]
  },
  {
   "cell_type": "markdown",
   "metadata": {},
   "source": [
    "### Exercises\n",
    "\n",
    "1. Try some different search queries!\n",
    "2. Display some more data fields in addition to the tweet text"
   ]
  },
  {
   "cell_type": "code",
   "execution_count": 28,
   "metadata": {},
   "outputs": [
    {
     "name": "stdout",
     "output_type": "stream",
     "text": [
      "There are hidden buildings and tunnels below Alcatraz's prison yard, study finds https://t.co/cKCn0vtYVE https://t.co/3szvvb0zvQ\n",
      "The public health risk behind social media's fast spread of conspiracy theories https://t.co/MCMsNNvX0i\n",
      "A federal judge has sentenced three men convicted of pay-for-play schemes to steer high-profile recruits to Adidas-… https://t.co/iOpkZCAvUS\n",
      "RT @TheHumble_21: I want to thank the Giants organization for believing in me and allowing me to have 4 great years in NY. I can’t express…\n",
      "Wefox Group, the Berlin-based insurance tech startup, raises $125M Series B led by Mubadala https://t.co/2FT0YDVsV5… https://t.co/ixGmsObeiU\n",
      "TV station's 'brownface' parody of 'Roma' actress scorned https://t.co/fEoE4VMdjP https://t.co/Am7LhdNPyg\n",
      "RT @MikeGarafolo: The #Buccaneers have reached agreement on a three-year, $41.25 million deal with LT Donovan, Smith, source says. He gets…\n",
      "These financial therapists and money experts have some ideas about how you can reel in your online spending and reg… https://t.co/tE8M4hBbjy\n",
      "🐆 https://t.co/ydSoodk7Xv\n",
      "Daily Crunch: Jibo dies a lonely death https://t.co/N4IeyxSO65 by @anthonyha https://t.co/OSCNolSJBW\n",
      ".@HoustonTexans releasing former first-round pick Kevin Johnson: https://t.co/XbGuWVC89g (via @RapSheet) https://t.co/rnuQkFMVBu\n",
      "RT @NASASpaceflight: Stunning photos of Dragon 2 docking from Oleg Kononenko! \n",
      "https://t.co/Lu9zlKFPt9\n",
      "\n",
      "He was monitoring from the Russian…\n",
      "A Modern Guide to Palo Alto: Destination Restaurants, World-Class Art + Trendy Stays https://t.co/TL9s1Q2gUA\n",
      "Cruises to Alcatraz frequently sell out, so start planning your trip to The Rock soon. https://t.co/8sTE11MjXm\n",
      "If you haven’t been listening to my radio show “Straight From The Hart” on Sirius XM channel 96 Laugh Out Loud radi… https://t.co/DVMAYXyg7v\n",
      "You don’t understand...this is an Alaia https://t.co/jLBxHI5NeX\n",
      "Audi’s new Q4 e-tron concept is a compact electric crossover with 280 miles of range https://t.co/wO2WlQ0hLY by… https://t.co/7T97ZcndDj\n",
      "The season's first superbloom is exploding in this Southern California spot https://t.co/igG5RMN5Wn https://t.co/XW9SIY05gr\n",
      "How the president may use @Twitter's editing tool\n",
      "https://t.co/kppgyD4wTN\n",
      "Trump doubles down with Sean Hannity tweet amid new scrutiny of his ties to Fox News https://t.co/DNB6vGYS48 https://t.co/YDpN0cXrgp\n",
      "Giants CEO Put on Leave In Wake of Violent Video https://t.co/L6UTnBdsN6 https://t.co/JQbX2U2WbK\n",
      "Season Finale of #ColdAsBalls!How did @LisaLeslie get in the ice tub so fast!!? 🤔🥶 https://t.co/o5frrWmT78\n",
      "RT @RapSheet: While the #Patriots have not ruled out the franchise tag today, it likely won’t be on K Stephen Gostkowski. Source said he’s…\n",
      "RT @RapSheet: The #Giants have now informed S Landon Collins that he won’t be franchise tagged, putting a top player on the free agent mark…\n",
      "San Francisco’s Michelin stars will be folded into a larger, California-wide guide this summer… https://t.co/JpgUNSJD5f\n",
      ".@DwyaneWade passed Michael Jordan for most blocked shots (1,052) by a guard in NBA history. https://t.co/R8BB7avxJF\n",
      "We were the coolest https://t.co/L0JDN2jgUF\n",
      "👏🏼👏🏼👏🏼♥️♥️♥️ https://t.co/N3WDqinfHx\n",
      "The most expensive new car ever is unveiled https://t.co/b5zf2mGzmT https://t.co/ZjYz5DNWvq\n",
      "IDC: Apple led wearables market in 2018, with 46.2M of the total 172.2M devices shipped https://t.co/rMnjWtHmkH by… https://t.co/fS6p6S3WxI\n",
      "‘Salt, Fat, Acid Heat’ star Samin Nosrat announces her second book, ‘What to Cook’ https://t.co/3hVn04aiTA https://t.co/oDSU9gIsCv\n",
      "UPDATE: Heavy IB congestion between Civic Center &amp; Embarcadero. Expect slow moving #subwaysvc while we continue to… https://t.co/jBOHu7Tmlg\n",
      "King Kong Bundy died Monday.\n",
      "\n",
      "We'll never forget his visit to ESPN. https://t.co/jsUB3a6Vce\n",
      "Playoff hopes in doubt. Persisting questions about defensive effort.\n",
      "\n",
      "@ramonashelburne looks at how LeBron's first… https://t.co/3iCzsoX6k5\n",
      "Yesterday’s Crimes: The Central Valley Machete Murderer is Dead https://t.co/GpUC7DylMz https://t.co/oP449xT2vU\n",
      "RT @espnW: Breaking: The @Mets have announced @jessmendoza has been named a baseball advisor for the club. \n",
      "\n",
      "This comes in addition to her…\n",
      "Matterport raises $48M to ramp up its 3D imaging platform https://t.co/U0VSWifjyY by @ingridlunden https://t.co/7Dodl1nQJz\n",
      "Three small improvised explosive devices have been found at London transport hubs, according to Metropolitan police… https://t.co/blIq4J5YGm\n",
      "On the Chiefs' trading block for a second-round pick? https://t.co/CmnOfHBdhm (via @RapSheet) https://t.co/AXMW1IUO7F\n",
      "A protest in Sacramento gets rowdy partly because of a guy in a MAGA hat, an airline worker was killed in a San Jos… https://t.co/utom0hEVJx\n",
      "Online shopping is fun. In fact, it's a little too fun.  https://t.co/TzolAtmp3j\n",
      "The 23 people killed by tornadoes that hit Alabama Sunday range from age 6 to 93 and include seven family members,… https://t.co/SEAr2wIF41\n",
      "Here is the official trailer for the final season of Game of Thrones https://t.co/NrIRTu5BjU by @jordanrcrook https://t.co/HSODl7V67W\n",
      "A second patient appears to be cured of H.I.V., sparking new hope for a novel treatment https://t.co/D5TqWen41d\n",
      "Horrible Week for Vision Zero Casts Shadow over S.F. https://t.co/8Lsoub3E6u https://t.co/KYvUR746Gf\n",
      "$1.5 billion Mega Millions jackpot claimed in South Carolina https://t.co/Yska3FIQ1Y https://t.co/LfXWhyNKYL\n",
      "MIT's latest dog-like robot can do backflips on command https://t.co/7Rm4vUW0l7 https://t.co/y7abxfT2pW\n",
      "The influence of centrist Democrats is fading fast. What does that mean for liberal technocrats?… https://t.co/rkwwjivDPU\n",
      "Up to 3 feet of snow in the forecast for the Sierra Nevada https://t.co/bZsLn5eSoJ https://t.co/uwiY82j3E4\n",
      "Blueground raises $20 million for flexible apartment rentals https://t.co/ovgMtXSLGm https://t.co/eQ73LJdpUW\n"
     ]
    }
   ],
   "source": [
    "r = api.request('statuses/home_timeline', {'count':50})\n",
    "for item in r.get_iterator():\n",
    "    if 'text' in item:\n",
    "        print (item['text'])"
   ]
  },
  {
   "cell_type": "code",
   "execution_count": 32,
   "metadata": {},
   "outputs": [
    {
     "name": "stdout",
     "output_type": "stream",
     "text": [
      "SUCCESS\n"
     ]
    }
   ],
   "source": [
    "r = api.request('statuses/update', {'status': 'I need pizza!'})\n",
    "print ('SUCCESS' if r.status_code == 200 else 'FAILURE')"
   ]
  },
  {
   "cell_type": "markdown",
   "metadata": {},
   "source": [
    "### Bonus: Streaming live tweets in real time "
   ]
  },
  {
   "cell_type": "code",
   "execution_count": 33,
   "metadata": {},
   "outputs": [
    {
     "name": "stdout",
     "output_type": "stream",
     "text": [
      "Tue Mar 05 18:38:38 +0000 2019\n",
      "Puebla, México, México\n",
      "@LUPITAMARTINEZA Totalmente de acuerdo me pasa muy seguido, pero pensar me ayuda a soñar también, inexplicable eso\n",
      "\n",
      "Tue Mar 05 18:38:38 +0000 2019\n",
      "Lisle, IL, United States\n",
      "Omgggggggggg I’m half livid half endlessly cracking up. 😂🤬 #SeanHannity is a fucking joke.\n",
      "\n",
      "Tue Mar 05 18:38:38 +0000 2019\n",
      "São Borja, Brasil, Brasil\n",
      "Deve ser MT bom mesmo pq se fosse ruim já teria acontecido cmg k\n",
      "\n",
      "Tue Mar 05 18:38:38 +0000 2019\n",
      "Los Angeles, CA, United States\n",
      "@Chemical_Plant_ @LindyDemiurge Rightfully so, missionaries are a common cover of clandestine agents.\n",
      "\n",
      "Tue Mar 05 18:38:37 +0000 2019\n",
      "Tukwila, WA, United States\n",
      "Excited to launch our #AIM state campaign and share my research on severe #maternalmorbidity @acog @WSMA_update https://t.co/6GxPk7LvmP\n",
      "\n",
      "Tue Mar 05 18:38:38 +0000 2019\n",
      "Dallas, TX, United States\n",
      "lmao\n",
      "\n",
      "Tue Mar 05 18:38:38 +0000 2019\n",
      "Texas, USA, United States\n",
      "Me after I fail a test I didn’t study for:\n",
      "\n",
      "Tue Mar 05 18:38:37 +0000 2019\n",
      "Rionegro, Colombia, Colombia\n",
      "La Revolución.!! https://t.co/ZCzWGPoqHh\n",
      "\n",
      "Tue Mar 05 18:38:38 +0000 2019\n",
      "Paradise, NV, United States\n",
      "https://t.co/feLelwGNwG\n",
      "\n",
      "Tue Mar 05 18:38:38 +0000 2019\n",
      "Camden Town, London, United Kingdom\n",
      "May your heart remain breakable, but never by the same hand twice @ Gordon Square https://t.co/h3ffEUj3uv\n",
      "\n",
      "Tue Mar 05 18:38:38 +0000 2019\n",
      "Durazno, Uruguay, Uruguay\n",
      "me enamoro como trea cuatro veces por dia\n",
      "\n",
      "Tue Mar 05 18:38:38 +0000 2019\n",
      "Córdoba, Argentina, Argentina\n",
      "@MFB1965 Clarito!\n",
      "\n",
      "Tue Mar 05 18:38:38 +0000 2019\n",
      "Michigan, USA, United States\n",
      "@ALawRadio @AfterHoursCBS Who cares\n",
      "\n",
      "Tue Mar 05 18:38:38 +0000 2019\n",
      "Ohio, USA, United States\n",
      "OK PR people I know you have some opinions on this --&gt;\n",
      "\n",
      "Tue Mar 05 18:38:38 +0000 2019\n",
      "Salvador, Brasil, Brasil\n",
      "Gente como a gente\n",
      "\n",
      "Tue Mar 05 18:38:38 +0000 2019\n",
      "Newton Abbot, England, United Kingdom\n",
      "@Jess116116 @WriterDanaEllis @ExAmish101 It is truly shocking everything that has happened. But I pray people won't… https://t.co/TzSTYerCz2\n",
      "\n",
      "Tue Mar 05 18:38:38 +0000 2019\n",
      "Dallas, TX, United States\n",
      "Oh, hey. Follow along on my adventures:  https://t.co/Jk7GQzVtfT…  #NewProfilePic https://t.co/Q1CjSVaema\n",
      "\n",
      "Tue Mar 05 18:38:38 +0000 2019\n",
      "Virginia, USA, United States\n",
      "@SonjaJorsen Hi\n",
      "\n",
      "Tue Mar 05 18:38:38 +0000 2019\n",
      "Bellville, South Africa, South Africa\n",
      "I'm a student\n",
      "Andinamali\n",
      "\n",
      "Tue Mar 05 18:38:38 +0000 2019\n",
      "Guatemala, Guatemala\n",
      "Hoy con el @AFCAjax y el @BVB 👏🏻🙌🏻\n",
      "\n",
      "Tue Mar 05 18:38:38 +0000 2019\n",
      "Echelon, NJ, United States\n",
      "Good point.\n",
      "\n",
      "Tue Mar 05 18:38:38 +0000 2019\n",
      "Bethesda, MD, United States\n",
      "I feel like a local 😭\n",
      "\n"
     ]
    }
   ],
   "source": [
    "# Twitter limits simultaneous connections to the streaming API,\n",
    "# so this part may not work using the demo API keys during class\n",
    "\n",
    "endpoint = 'statuses/filter'\n",
    "params = {'locations': '-180,-90,180,90'}\n",
    "r = api.request(endpoint, params)\n",
    "LIMIT = 20\n",
    "\n",
    "# 'enumerate' lets us count tweets as we receive them\n",
    "\n",
    "for i, tweet in enumerate(r.get_iterator()):\n",
    "    print(tweet['created_at'])\n",
    "    print(tweet['place']['full_name'] + ', ' + tweet['place']['country'])\n",
    "    print(tweet['text'] + '\\n')\n",
    "    if (i > LIMIT): break\n",
    "\n",
    "# close the streaming connection\n",
    "r.close()"
   ]
  },
  {
   "cell_type": "code",
   "execution_count": null,
   "metadata": {
    "collapsed": true
   },
   "outputs": [],
   "source": []
  },
  {
   "cell_type": "code",
   "execution_count": null,
   "metadata": {
    "collapsed": true
   },
   "outputs": [],
   "source": []
  },
  {
   "cell_type": "code",
   "execution_count": null,
   "metadata": {
    "collapsed": true
   },
   "outputs": [],
   "source": []
  },
  {
   "cell_type": "markdown",
   "metadata": {},
   "source": [
    "### Exercises for the remainder of class\n",
    "\n",
    "1. Make a scatter plot of the lat-lon coordinates of earthquakes.  \n",
    "   &nbsp;\n",
    "   \n",
    "2. Using the geocoding example as a starting point, try searching the Google Maps Directions API or Elevation API instead. Descriptions are in the [API documentation](https://developers.google.com/maps/documentation/geocoding/intro).  \n",
    "   &nbsp;\n",
    "   "
   ]
  },
  {
   "cell_type": "code",
   "execution_count": 34,
   "metadata": {},
   "outputs": [
    {
     "name": "stdout",
     "output_type": "stream",
     "text": [
      "Downloading http://earthquake.usgs.gov/earthquakes/feed/v1.0/summary/4.5_month.csv\n"
     ]
    }
   ],
   "source": [
    "import requests\n",
    "from csv import DictReader\n",
    "DATA_URL = 'http://earthquake.usgs.gov/earthquakes/feed/v1.0/summary/4.5_month.csv'\n",
    "print(\"Downloading\", DATA_URL)\n",
    "resp = requests.get(DATA_URL)\n",
    "quakes = list(DictReader(resp.text.splitlines()))\n",
    "# ...avoiding numpy/pandas Array() for now, and can't care enough to do this less awkwardly...\n",
    "lngs = [float(q['longitude']) for q in quakes]\n",
    "lats = [float(q['latitude']) for q in quakes]\n",
    "mags = [2 ** float(q['mag']) for q in quakes]"
   ]
  },
  {
   "cell_type": "markdown",
   "metadata": {
    "collapsed": true
   },
   "source": [
    "### For next time...\n",
    "\n",
    "In the next class, you will try out another API that provides data you're interested in. You will be asked to try connecting to it using Python code, and performing some basic operations on the data.  To come prepared for next time, please explore some of the transportation-related APIs that may be valuable, and choose one that is of interest to you.\n",
    "\n",
    "Here are a a few to get you started. \n",
    "\n",
    "Public Transit\n",
    "https://www.programmableweb.com/news/how-smart-cities-are-using-apis-public-transport-apis/2014/05/22\n",
    "\n",
    "Long-Distance Travel\n",
    "http://www.olery.com/blog/the-best-travel-apis-discover-contribute/ \n",
    "\n",
    "Transportation\n",
    "https://www.programmableweb.com/category/transportation/api\n",
    "\n",
    "\n",
    "Start by reading the public transit page, because that provides a nice overview of the types of applications out there, and some of the issues in using them.  These lessons often apply to traffic and transportation more generally.  \n",
    "\n",
    "Keep in mind that there are a number of different organizations that provide APIs, with different motivations and quality of what is provided.  If it is a private company, what is their business model?  What is the underlying source of the data, and what might that imply about how representative it is of the real world?  There is a ton of stuff out there.  How do we go about sorting out what is useful to us and what is now.  Spend some time exploring these and thinking about these questions.  \n"
   ]
  },
  {
   "cell_type": "code",
   "execution_count": null,
   "metadata": {
    "collapsed": true
   },
   "outputs": [],
   "source": []
  },
  {
   "cell_type": "code",
   "execution_count": null,
   "metadata": {
    "collapsed": true
   },
   "outputs": [],
   "source": []
  }
 ],
 "metadata": {
  "anaconda-cloud": {},
  "kernelspec": {
   "display_name": "Python 3",
   "language": "python",
   "name": "python3"
  },
  "language_info": {
   "codemirror_mode": {
    "name": "ipython",
    "version": 3
   },
   "file_extension": ".py",
   "mimetype": "text/x-python",
   "name": "python",
   "nbconvert_exporter": "python",
   "pygments_lexer": "ipython3",
   "version": "3.7.1"
  }
 },
 "nbformat": 4,
 "nbformat_minor": 1
}
