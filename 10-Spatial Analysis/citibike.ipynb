{
 "cells": [
  {
   "cell_type": "markdown",
   "metadata": {},
   "source": [
    "# Example: CitiBike data\n",
    "\n",
    "Adapted from Kelsey Jordahl\n",
    "https://gist.github.com/kjordahl/5957573"
   ]
  },
  {
   "cell_type": "code",
   "execution_count": 3,
   "metadata": {},
   "outputs": [],
   "source": [
    "import requests  \n",
    "import json\n",
    "from pyproj import Proj\n",
    "from shapely.geometry import Point\n",
    "import geopandas as gp"
   ]
  },
  {
   "cell_type": "markdown",
   "metadata": {},
   "source": [
    "NYC borough boundaries downloaded from [Bytes of the Big Apple](http://www.nyc.gov/html/dcp/download/bytes/nybb_13a.zip)"
   ]
  },
  {
   "cell_type": "code",
   "execution_count": 4,
   "metadata": {},
   "outputs": [],
   "source": [
    "boros = gp.GeoDataFrame.from_file('nybb_15b/nybb.shp')"
   ]
  },
  {
   "cell_type": "markdown",
   "metadata": {},
   "source": [
    "Load real time bike station data from [CitiBike](http://citibikenyc.com) json API:"
   ]
  },
  {
   "cell_type": "code",
   "execution_count": 5,
   "metadata": {},
   "outputs": [],
   "source": [
    "# get the bike data and convert it to a ditcionary\n",
    "endpoint_url = 'http://citibikenyc.com/stations/json'\n",
    "response = requests.get(endpoint_url)\n",
    "data = json.loads(response.text)\n"
   ]
  },
  {
   "cell_type": "code",
   "execution_count": 6,
   "metadata": {
    "scrolled": true
   },
   "outputs": [
    {
     "data": {
      "text/html": [
       "<div>\n",
       "<style scoped>\n",
       "    .dataframe tbody tr th:only-of-type {\n",
       "        vertical-align: middle;\n",
       "    }\n",
       "\n",
       "    .dataframe tbody tr th {\n",
       "        vertical-align: top;\n",
       "    }\n",
       "\n",
       "    .dataframe thead th {\n",
       "        text-align: right;\n",
       "    }\n",
       "</style>\n",
       "<table border=\"1\" class=\"dataframe\">\n",
       "  <thead>\n",
       "    <tr style=\"text-align: right;\">\n",
       "      <th></th>\n",
       "      <th>altitude</th>\n",
       "      <th>availableBikes</th>\n",
       "      <th>availableDocks</th>\n",
       "      <th>city</th>\n",
       "      <th>id</th>\n",
       "      <th>landMark</th>\n",
       "      <th>lastCommunicationTime</th>\n",
       "      <th>latitude</th>\n",
       "      <th>location</th>\n",
       "      <th>longitude</th>\n",
       "      <th>postalCode</th>\n",
       "      <th>stAddress1</th>\n",
       "      <th>stAddress2</th>\n",
       "      <th>stationName</th>\n",
       "      <th>statusKey</th>\n",
       "      <th>statusValue</th>\n",
       "      <th>testStation</th>\n",
       "      <th>totalDocks</th>\n",
       "    </tr>\n",
       "  </thead>\n",
       "  <tbody>\n",
       "    <tr>\n",
       "      <th>0</th>\n",
       "      <td></td>\n",
       "      <td>21</td>\n",
       "      <td>12</td>\n",
       "      <td></td>\n",
       "      <td>304</td>\n",
       "      <td></td>\n",
       "      <td>2019-02-19 03:48:41 PM</td>\n",
       "      <td>40.704633</td>\n",
       "      <td></td>\n",
       "      <td>-74.013617</td>\n",
       "      <td></td>\n",
       "      <td>Broadway &amp; Battery Pl</td>\n",
       "      <td></td>\n",
       "      <td>Broadway &amp; Battery Pl</td>\n",
       "      <td>1</td>\n",
       "      <td>In Service</td>\n",
       "      <td>False</td>\n",
       "      <td>33</td>\n",
       "    </tr>\n",
       "    <tr>\n",
       "      <th>1</th>\n",
       "      <td></td>\n",
       "      <td>56</td>\n",
       "      <td>3</td>\n",
       "      <td></td>\n",
       "      <td>359</td>\n",
       "      <td></td>\n",
       "      <td>2019-02-19 03:47:55 PM</td>\n",
       "      <td>40.755103</td>\n",
       "      <td></td>\n",
       "      <td>-73.974987</td>\n",
       "      <td></td>\n",
       "      <td>E 47 St &amp; Park Ave</td>\n",
       "      <td></td>\n",
       "      <td>E 47 St &amp; Park Ave</td>\n",
       "      <td>1</td>\n",
       "      <td>In Service</td>\n",
       "      <td>False</td>\n",
       "      <td>64</td>\n",
       "    </tr>\n",
       "    <tr>\n",
       "      <th>2</th>\n",
       "      <td></td>\n",
       "      <td>8</td>\n",
       "      <td>36</td>\n",
       "      <td></td>\n",
       "      <td>377</td>\n",
       "      <td></td>\n",
       "      <td>2019-02-19 03:45:30 PM</td>\n",
       "      <td>40.722438</td>\n",
       "      <td></td>\n",
       "      <td>-74.005664</td>\n",
       "      <td></td>\n",
       "      <td>6 Ave &amp; Canal St</td>\n",
       "      <td></td>\n",
       "      <td>6 Ave &amp; Canal St</td>\n",
       "      <td>1</td>\n",
       "      <td>In Service</td>\n",
       "      <td>False</td>\n",
       "      <td>45</td>\n",
       "    </tr>\n",
       "    <tr>\n",
       "      <th>3</th>\n",
       "      <td></td>\n",
       "      <td>3</td>\n",
       "      <td>31</td>\n",
       "      <td></td>\n",
       "      <td>402</td>\n",
       "      <td></td>\n",
       "      <td>2019-02-19 03:48:26 PM</td>\n",
       "      <td>40.740343</td>\n",
       "      <td></td>\n",
       "      <td>-73.989551</td>\n",
       "      <td></td>\n",
       "      <td>Broadway &amp; E 22 St</td>\n",
       "      <td></td>\n",
       "      <td>Broadway &amp; E 22 St</td>\n",
       "      <td>1</td>\n",
       "      <td>In Service</td>\n",
       "      <td>False</td>\n",
       "      <td>39</td>\n",
       "    </tr>\n",
       "    <tr>\n",
       "      <th>4</th>\n",
       "      <td></td>\n",
       "      <td>33</td>\n",
       "      <td>8</td>\n",
       "      <td></td>\n",
       "      <td>520</td>\n",
       "      <td></td>\n",
       "      <td>2019-02-19 03:46:34 PM</td>\n",
       "      <td>40.759923</td>\n",
       "      <td></td>\n",
       "      <td>-73.976485</td>\n",
       "      <td></td>\n",
       "      <td>W 52 St &amp; 5 Ave</td>\n",
       "      <td></td>\n",
       "      <td>W 52 St &amp; 5 Ave</td>\n",
       "      <td>1</td>\n",
       "      <td>In Service</td>\n",
       "      <td>False</td>\n",
       "      <td>41</td>\n",
       "    </tr>\n",
       "  </tbody>\n",
       "</table>\n",
       "</div>"
      ],
      "text/plain": [
       "  altitude  availableBikes  availableDocks city   id landMark  \\\n",
       "0                       21              12       304            \n",
       "1                       56               3       359            \n",
       "2                        8              36       377            \n",
       "3                        3              31       402            \n",
       "4                       33               8       520            \n",
       "\n",
       "    lastCommunicationTime   latitude location  longitude postalCode  \\\n",
       "0  2019-02-19 03:48:41 PM  40.704633          -74.013617              \n",
       "1  2019-02-19 03:47:55 PM  40.755103          -73.974987              \n",
       "2  2019-02-19 03:45:30 PM  40.722438          -74.005664              \n",
       "3  2019-02-19 03:48:26 PM  40.740343          -73.989551              \n",
       "4  2019-02-19 03:46:34 PM  40.759923          -73.976485              \n",
       "\n",
       "              stAddress1 stAddress2            stationName  statusKey  \\\n",
       "0  Broadway & Battery Pl             Broadway & Battery Pl          1   \n",
       "1     E 47 St & Park Ave                E 47 St & Park Ave          1   \n",
       "2       6 Ave & Canal St                  6 Ave & Canal St          1   \n",
       "3     Broadway & E 22 St                Broadway & E 22 St          1   \n",
       "4        W 52 St & 5 Ave                   W 52 St & 5 Ave          1   \n",
       "\n",
       "  statusValue  testStation  totalDocks  \n",
       "0  In Service        False          33  \n",
       "1  In Service        False          64  \n",
       "2  In Service        False          45  \n",
       "3  In Service        False          39  \n",
       "4  In Service        False          41  "
      ]
     },
     "execution_count": 6,
     "metadata": {},
     "output_type": "execute_result"
    }
   ],
   "source": [
    "# convert the relevant part to a geodataframe\n",
    "df = gp.GeoDataFrame(data['stationBeanList'])\n",
    "df.head()"
   ]
  },
  {
   "cell_type": "code",
   "execution_count": 7,
   "metadata": {},
   "outputs": [
    {
     "data": {
      "text/plain": [
       "813"
      ]
     },
     "execution_count": 7,
     "metadata": {},
     "output_type": "execute_result"
    }
   ],
   "source": [
    "# there is one row for each bike station.  How many stations are there? \n",
    "len(df)"
   ]
  },
  {
   "cell_type": "code",
   "execution_count": 8,
   "metadata": {},
   "outputs": [
    {
     "data": {
      "text/plain": [
       "array([-74.0836394 ,  40.65539977, -73.9077436 ,  40.81439444])"
      ]
     },
     "execution_count": 8,
     "metadata": {},
     "output_type": "execute_result"
    }
   ],
   "source": [
    "# in the file above, there are lon-lats, but no geometry field\n",
    "# we need to set that up\n",
    "\n",
    "s = gp.GeoSeries([Point(x, y) for x, y in zip(df['longitude'], df['latitude'])])\n",
    "df['geometry'] = s\n",
    "df.crs = {'init': 'epsg:4326', 'no_defs': True}\n",
    "df.geometry.total_bounds"
   ]
  },
  {
   "cell_type": "code",
   "execution_count": 14,
   "metadata": {},
   "outputs": [
    {
     "data": {
      "text/plain": [
       "array([ 961064.73659426,  178056.37414829, 1009803.53178432,\n",
       "        235986.42166716])"
      ]
     },
     "execution_count": 14,
     "metadata": {},
     "output_type": "execute_result"
    }
   ],
   "source": [
    "# make sure they are on the same CRS.  \n",
    "# checking the bounds is a nice way of seeing this\n",
    "df.to_crs(boros.crs, inplace=True)\n",
    "df.geometry.total_bounds"
   ]
  },
  {
   "cell_type": "code",
   "execution_count": 11,
   "metadata": {},
   "outputs": [
    {
     "name": "stdout",
     "output_type": "stream",
     "text": [
      "413 stations in Manhattan\n"
     ]
    }
   ],
   "source": [
    "# the geometry objects can do lots of cool stuff.  For example: \n",
    "\n",
    "manhattan = boros.geometry[3]\n",
    "in_mn = df.geometry.within(manhattan)\n",
    "print(sum(in_mn), 'stations in Manhattan')"
   ]
  },
  {
   "cell_type": "markdown",
   "metadata": {},
   "source": [
    "# Your turn\n",
    "\n",
    "You can read about the range of operations available in geopandas here: \n",
    "    \n",
    "http://geopandas.org/index.html\n",
    "\n",
    "Your assignment is to: \n",
    "\n",
    "1. Calculate how many stations are in each borough\n",
    "2. Calculate how many bikes are currently available in each borough\n",
    "3. Read about and try at least two new spatial or geometric operations (beyond what I've covered here). "
   ]
  },
  {
   "cell_type": "code",
   "execution_count": 9,
   "metadata": {},
   "outputs": [],
   "source": [
    "import requests  \n",
    "import json\n",
    "from pyproj import Proj\n",
    "from shapely.geometry import Point\n",
    "import geopandas as gp\n"
   ]
  },
  {
   "cell_type": "code",
   "execution_count": 11,
   "metadata": {},
   "outputs": [
    {
     "data": {
      "text/plain": [
       "813"
      ]
     },
     "execution_count": 11,
     "metadata": {},
     "output_type": "execute_result"
    }
   ],
   "source": [
    "boros = gp.GeoDataFrame.from_file('nybb_15b/nybb.shp')\n",
    "endpoint_url = 'http://citibikenyc.com/stations/json'\n",
    "response = requests.get(endpoint_url)\n",
    "data = json.loads(response.text)\n",
    "len(df)"
   ]
  },
  {
   "cell_type": "code",
   "execution_count": 33,
   "metadata": {},
   "outputs": [
    {
     "ename": "NameError",
     "evalue": "name 'citibikes_boros' is not defined",
     "output_type": "error",
     "traceback": [
      "\u001b[0;31m---------------------------------------------------------------------------\u001b[0m",
      "\u001b[0;31mNameError\u001b[0m                                 Traceback (most recent call last)",
      "\u001b[0;32m<ipython-input-33-ba6f6d82c1bb>\u001b[0m in \u001b[0;36m<module>\u001b[0;34m\u001b[0m\n\u001b[0;32m----> 1\u001b[0;31m \u001b[0mbikes\u001b[0m\u001b[0;34m=\u001b[0m \u001b[0mcitibikes_boros\u001b[0m\u001b[0;34m.\u001b[0m\u001b[0mgroupby\u001b[0m\u001b[0;34m(\u001b[0m\u001b[0;34m'BoroName'\u001b[0m\u001b[0;34m)\u001b[0m\u001b[0;34m[\u001b[0m\u001b[0;34m'availableBikes'\u001b[0m\u001b[0;34m]\u001b[0m\u001b[0;34m.\u001b[0m\u001b[0msum\u001b[0m\u001b[0;34m(\u001b[0m\u001b[0;34m)\u001b[0m\u001b[0;34m\u001b[0m\u001b[0;34m\u001b[0m\u001b[0m\n\u001b[0m\u001b[1;32m      2\u001b[0m \u001b[0mbikes\u001b[0m\u001b[0;34m\u001b[0m\u001b[0;34m\u001b[0m\u001b[0m\n",
      "\u001b[0;31mNameError\u001b[0m: name 'citibikes_boros' is not defined"
     ]
    }
   ],
   "source": [
    "bikes= citibikes_boros.groupby('BoroName')['availableBikes'].sum()\n",
    "bikes"
   ]
  },
  {
   "cell_type": "code",
   "execution_count": 35,
   "metadata": {},
   "outputs": [
    {
     "name": "stdout",
     "output_type": "stream",
     "text": [
      "0 availableBikes\n"
     ]
    }
   ],
   "source": [
    "manhattan = boros.geometry[3]\n",
    "in_mn = df.geometry.within(manhattan)\n",
    "print(sum(in_mn), 'availableBikes')"
   ]
  },
  {
   "cell_type": "code",
   "execution_count": 16,
   "metadata": {},
   "outputs": [
    {
     "name": "stdout",
     "output_type": "stream",
     "text": [
      "0 available bikes in Manhattan\n"
     ]
    }
   ],
   "source": [
    "print (sum(df['availableBikes'][in_mn]), 'available bikes in Manhattan')"
   ]
  },
  {
   "cell_type": "code",
   "execution_count": 23,
   "metadata": {},
   "outputs": [
    {
     "name": "stdout",
     "output_type": "stream",
     "text": [
      "0 available bikes in Brooklyn\n"
     ]
    }
   ],
   "source": [
    "brooklyn = boros.geometry[2]\n",
    "in_bk = df.geometry.within(brooklyn)\n",
    "print (sum(df['availableBikes'][in_bk]), 'available bikes in Brooklyn')"
   ]
  },
  {
   "cell_type": "code",
   "execution_count": 29,
   "metadata": {},
   "outputs": [
    {
     "data": {
      "text/html": [
       "<div>\n",
       "<style scoped>\n",
       "    .dataframe tbody tr th:only-of-type {\n",
       "        vertical-align: middle;\n",
       "    }\n",
       "\n",
       "    .dataframe tbody tr th {\n",
       "        vertical-align: top;\n",
       "    }\n",
       "\n",
       "    .dataframe thead th {\n",
       "        text-align: right;\n",
       "    }\n",
       "</style>\n",
       "<table border=\"1\" class=\"dataframe\">\n",
       "  <thead>\n",
       "    <tr style=\"text-align: right;\">\n",
       "      <th></th>\n",
       "      <th>BoroName</th>\n",
       "      <th>Staten Island</th>\n",
       "      <th>Brooklyn</th>\n",
       "      <th>Queens</th>\n",
       "      <th>Manhattan</th>\n",
       "      <th>Bronx</th>\n",
       "    </tr>\n",
       "  </thead>\n",
       "  <tbody>\n",
       "    <tr>\n",
       "      <th>0</th>\n",
       "      <td>Staten Island</td>\n",
       "      <td>False</td>\n",
       "      <td>False</td>\n",
       "      <td>False</td>\n",
       "      <td>False</td>\n",
       "      <td>False</td>\n",
       "    </tr>\n",
       "    <tr>\n",
       "      <th>1</th>\n",
       "      <td>Brooklyn</td>\n",
       "      <td>False</td>\n",
       "      <td>False</td>\n",
       "      <td>True</td>\n",
       "      <td>True</td>\n",
       "      <td>False</td>\n",
       "    </tr>\n",
       "    <tr>\n",
       "      <th>2</th>\n",
       "      <td>Queens</td>\n",
       "      <td>False</td>\n",
       "      <td>True</td>\n",
       "      <td>False</td>\n",
       "      <td>True</td>\n",
       "      <td>True</td>\n",
       "    </tr>\n",
       "    <tr>\n",
       "      <th>3</th>\n",
       "      <td>Manhattan</td>\n",
       "      <td>False</td>\n",
       "      <td>True</td>\n",
       "      <td>True</td>\n",
       "      <td>False</td>\n",
       "      <td>True</td>\n",
       "    </tr>\n",
       "    <tr>\n",
       "      <th>4</th>\n",
       "      <td>Bronx</td>\n",
       "      <td>False</td>\n",
       "      <td>False</td>\n",
       "      <td>True</td>\n",
       "      <td>True</td>\n",
       "      <td>False</td>\n",
       "    </tr>\n",
       "  </tbody>\n",
       "</table>\n",
       "</div>"
      ],
      "text/plain": [
       "        BoroName  Staten Island  Brooklyn  Queens  Manhattan  Bronx\n",
       "0  Staten Island          False     False   False      False  False\n",
       "1       Brooklyn          False     False    True       True  False\n",
       "2         Queens          False      True   False       True   True\n",
       "3      Manhattan          False      True    True      False   True\n",
       "4          Bronx          False     False    True       True  False"
      ]
     },
     "execution_count": 29,
     "metadata": {},
     "output_type": "execute_result"
    }
   ],
   "source": [
    "s=boros.BoroName.to_frame()\n",
    "for index, row in boros.iterrows():\n",
    "    s[row.BoroName]=boros.geometry.touches(row.geometry)\n",
    "s"
   ]
  },
  {
   "cell_type": "code",
   "execution_count": null,
   "metadata": {},
   "outputs": [],
   "source": []
  }
 ],
 "metadata": {
  "anaconda-cloud": {},
  "kernelspec": {
   "display_name": "Python 3",
   "language": "python",
   "name": "python3"
  },
  "language_info": {
   "codemirror_mode": {
    "name": "ipython",
    "version": 3
   },
   "file_extension": ".py",
   "mimetype": "text/x-python",
   "name": "python",
   "nbconvert_exporter": "python",
   "pygments_lexer": "ipython3",
   "version": "3.7.1"
  }
 },
 "nbformat": 4,
 "nbformat_minor": 1
}
